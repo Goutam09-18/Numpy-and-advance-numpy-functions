{
 "cells": [
  {
   "cell_type": "code",
   "execution_count": 1,
   "id": "688392c6-a806-48d2-94f6-85a63e878c70",
   "metadata": {},
   "outputs": [],
   "source": [
    "import numpy as np"
   ]
  },
  {
   "cell_type": "code",
   "execution_count": 2,
   "id": "55cdf1dc-09c2-4e8d-b74d-40baa3ff2ac4",
   "metadata": {},
   "outputs": [
    {
     "data": {
      "text/plain": [
       "'1.23.5'"
      ]
     },
     "execution_count": 2,
     "metadata": {},
     "output_type": "execute_result"
    }
   ],
   "source": [
    "np.__version__"
   ]
  },
  {
   "cell_type": "code",
   "execution_count": 46,
   "id": "2e4dd118-70f9-4344-b8a7-6347885a6915",
   "metadata": {},
   "outputs": [
    {
     "name": "stdout",
     "output_type": "stream",
     "text": [
      "\n",
      "NumPy\n",
      "=====\n",
      "\n",
      "Provides\n",
      "  1. An array object of arbitrary homogeneous items\n",
      "  2. Fast mathematical operations over arrays\n",
      "  3. Linear Algebra, Fourier Transforms, Random Number Generation\n",
      "\n",
      "How to use the documentation\n",
      "----------------------------\n",
      "Documentation is available in two forms: docstrings provided\n",
      "with the code, and a loose standing reference guide, available from\n",
      "`the NumPy homepage <https://numpy.org>`_.\n",
      "\n",
      "We recommend exploring the docstrings using\n",
      "`IPython <https://ipython.org>`_, an advanced Python shell with\n",
      "TAB-completion and introspection capabilities.  See below for further\n",
      "instructions.\n",
      "\n",
      "The docstring examples assume that `numpy` has been imported as `np`::\n",
      "\n",
      "  >>> import numpy as np\n",
      "\n",
      "Code snippets are indicated by three greater-than signs::\n",
      "\n",
      "  >>> x = 42\n",
      "  >>> x = x + 1\n",
      "\n",
      "Use the built-in ``help`` function to view a function's docstring::\n",
      "\n",
      "  >>> help(np.sort)\n",
      "  ... # doctest: +SKIP\n",
      "\n",
      "For some objects, ``np.info(obj)`` may provide additional help.  This is\n",
      "particularly true if you see the line \"Help on ufunc object:\" at the top\n",
      "of the help() page.  Ufuncs are implemented in C, not Python, for speed.\n",
      "The native Python help() does not know how to view their help, but our\n",
      "np.info() function does.\n",
      "\n",
      "To search for documents containing a keyword, do::\n",
      "\n",
      "  >>> np.lookfor('keyword')\n",
      "  ... # doctest: +SKIP\n",
      "\n",
      "General-purpose documents like a glossary and help on the basic concepts\n",
      "of numpy are available under the ``doc`` sub-module::\n",
      "\n",
      "  >>> from numpy import doc\n",
      "  >>> help(doc)\n",
      "  ... # doctest: +SKIP\n",
      "\n",
      "Available subpackages\n",
      "---------------------\n",
      "lib\n",
      "    Basic functions used by several sub-packages.\n",
      "random\n",
      "    Core Random Tools\n",
      "linalg\n",
      "    Core Linear Algebra Tools\n",
      "fft\n",
      "    Core FFT routines\n",
      "polynomial\n",
      "    Polynomial tools\n",
      "testing\n",
      "    NumPy testing tools\n",
      "distutils\n",
      "    Enhancements to distutils with support for\n",
      "    Fortran compilers support and more.\n",
      "\n",
      "Utilities\n",
      "---------\n",
      "test\n",
      "    Run numpy unittests\n",
      "show_config\n",
      "    Show numpy build configuration\n",
      "dual\n",
      "    Overwrite certain functions with high-performance SciPy tools.\n",
      "    Note: `numpy.dual` is deprecated.  Use the functions from NumPy or Scipy\n",
      "    directly instead of importing them from `numpy.dual`.\n",
      "matlib\n",
      "    Make everything matrices.\n",
      "__version__\n",
      "    NumPy version string\n",
      "\n",
      "Viewing documentation using IPython\n",
      "-----------------------------------\n",
      "Start IPython with the NumPy profile (``ipython -p numpy``), which will\n",
      "import `numpy` under the alias `np`.  Then, use the ``cpaste`` command to\n",
      "paste examples into the shell.  To see which functions are available in\n",
      "`numpy`, type ``np.<TAB>`` (where ``<TAB>`` refers to the TAB key), or use\n",
      "``np.*cos*?<ENTER>`` (where ``<ENTER>`` refers to the ENTER key) to narrow\n",
      "down the list.  To view the docstring for a function, use\n",
      "``np.cos?<ENTER>`` (to view the docstring) and ``np.cos??<ENTER>`` (to view\n",
      "the source code).\n",
      "\n",
      "Copies vs. in-place operation\n",
      "-----------------------------\n",
      "Most of the functions in `numpy` return a copy of the array argument\n",
      "(e.g., `np.sort`).  In-place versions of these functions are often\n",
      "available as array methods, i.e. ``x = np.array([1,2,3]); x.sort()``.\n",
      "Exceptions to this rule are documented.\n",
      "\n",
      "\n"
     ]
    }
   ],
   "source": [
    "ab=print(np.__doc__)"
   ]
  },
  {
   "cell_type": "code",
   "execution_count": 4,
   "id": "b0f70aec-3f31-42c2-8e80-30760b7d18ed",
   "metadata": {},
   "outputs": [],
   "source": [
    "l = [1,2,5,4,9]"
   ]
  },
  {
   "cell_type": "code",
   "execution_count": 5,
   "id": "685c35d0-607c-48c9-92ac-8c3625d29532",
   "metadata": {},
   "outputs": [],
   "source": [
    "arr =np.array(l)"
   ]
  },
  {
   "cell_type": "code",
   "execution_count": 6,
   "id": "bcfd05c4-4169-45c7-bb17-e409bd0fe55d",
   "metadata": {},
   "outputs": [
    {
     "data": {
      "text/plain": [
       "numpy.ndarray"
      ]
     },
     "execution_count": 6,
     "metadata": {},
     "output_type": "execute_result"
    }
   ],
   "source": [
    "type(np.array(l))"
   ]
  },
  {
   "cell_type": "code",
   "execution_count": 7,
   "id": "0019dc65-2c68-4798-9a09-328b7923b125",
   "metadata": {},
   "outputs": [
    {
     "data": {
      "text/plain": [
       "1"
      ]
     },
     "execution_count": 7,
     "metadata": {},
     "output_type": "execute_result"
    }
   ],
   "source": [
    "arr.ndim"
   ]
  },
  {
   "cell_type": "code",
   "execution_count": 8,
   "id": "40c8395e-75ba-4358-ad2c-6dd7f70d6f11",
   "metadata": {},
   "outputs": [
    {
     "data": {
      "text/plain": [
       "array(['1', '5', '4', '9', 'goutamt'], dtype='<U21')"
      ]
     },
     "execution_count": 8,
     "metadata": {},
     "output_type": "execute_result"
    }
   ],
   "source": [
    "l = [1,5,4,9,\"goutamt\"]\n",
    "arr1= np.array(l)\n",
    "arr1"
   ]
  },
  {
   "cell_type": "code",
   "execution_count": 9,
   "id": "d201d8cc-2ca0-4049-aefd-281af4b6a2ba",
   "metadata": {},
   "outputs": [
    {
     "data": {
      "text/plain": [
       "1"
      ]
     },
     "execution_count": 9,
     "metadata": {},
     "output_type": "execute_result"
    }
   ],
   "source": [
    "arr1.ndim"
   ]
  },
  {
   "cell_type": "code",
   "execution_count": 10,
   "id": "ed9f119c-a8e0-410d-bc7a-1b997138d09d",
   "metadata": {},
   "outputs": [],
   "source": [
    "l=[1,4,5,7]"
   ]
  },
  {
   "cell_type": "code",
   "execution_count": 11,
   "id": "6de352ca-5877-495c-ad94-da49409671f8",
   "metadata": {},
   "outputs": [
    {
     "data": {
      "text/plain": [
       "array([1, 4, 5, 7])"
      ]
     },
     "execution_count": 11,
     "metadata": {},
     "output_type": "execute_result"
    }
   ],
   "source": [
    "np.array(l)"
   ]
  },
  {
   "cell_type": "code",
   "execution_count": 12,
   "id": "fb1ef977-ca3f-4017-ad7d-1d605c6d3167",
   "metadata": {},
   "outputs": [],
   "source": [
    "mat=np.matrix(l)"
   ]
  },
  {
   "cell_type": "code",
   "execution_count": 49,
   "id": "fa00eb85-6bc9-4a91-be4b-4afa2ccfd247",
   "metadata": {},
   "outputs": [
    {
     "data": {
      "text/plain": [
       "matrix([[1, 2],\n",
       "        [4, 5],\n",
       "        [6, 7]])"
      ]
     },
     "execution_count": 49,
     "metadata": {},
     "output_type": "execute_result"
    }
   ],
   "source": [
    "np.matrix([[1,2],[4,5],[6,7]])"
   ]
  },
  {
   "cell_type": "code",
   "execution_count": null,
   "id": "b0a1272b-66b2-4568-8d8d-0141666da703",
   "metadata": {},
   "outputs": [],
   "source": [
    "np.array([[[1,2],[4,5],[6,7]]])"
   ]
  },
  {
   "cell_type": "code",
   "execution_count": 14,
   "id": "d892fab7-817e-498d-8c4c-7f56ce4bfaa8",
   "metadata": {},
   "outputs": [
    {
     "data": {
      "text/plain": [
       "array([[[1, 2],\n",
       "        [4, 5],\n",
       "        [6, 7]]])"
      ]
     },
     "execution_count": 14,
     "metadata": {},
     "output_type": "execute_result"
    }
   ],
   "source": [
    "np.asanyarray([[[1,2],[4,5],[6,7]]])"
   ]
  },
  {
   "cell_type": "code",
   "execution_count": 15,
   "id": "6463774a-0df4-4d02-b594-ea706ab58ac3",
   "metadata": {},
   "outputs": [
    {
     "data": {
      "text/plain": [
       "matrix([[1, 4, 5, 7]])"
      ]
     },
     "execution_count": 15,
     "metadata": {},
     "output_type": "execute_result"
    }
   ],
   "source": [
    "mat"
   ]
  },
  {
   "cell_type": "code",
   "execution_count": 16,
   "id": "13e07331-5289-4f9f-bc14-5ddcaeb05e79",
   "metadata": {},
   "outputs": [
    {
     "data": {
      "text/plain": [
       "array([[1, 4, 5, 7]])"
      ]
     },
     "execution_count": 16,
     "metadata": {},
     "output_type": "execute_result"
    }
   ],
   "source": [
    "np.array(mat)"
   ]
  },
  {
   "cell_type": "code",
   "execution_count": 17,
   "id": "fd4f9743-069a-423d-b0aa-837af1db8bf2",
   "metadata": {},
   "outputs": [],
   "source": [
    "t=([1,2,],[5,6])\n"
   ]
  },
  {
   "cell_type": "code",
   "execution_count": 18,
   "id": "7d7b832e-3637-4234-8573-6d6dcb64df63",
   "metadata": {},
   "outputs": [
    {
     "data": {
      "text/plain": [
       "tuple"
      ]
     },
     "execution_count": 18,
     "metadata": {},
     "output_type": "execute_result"
    }
   ],
   "source": [
    "type(t)"
   ]
  },
  {
   "cell_type": "code",
   "execution_count": 19,
   "id": "11fd300b-7b4d-44b7-9c71-1d7640264247",
   "metadata": {},
   "outputs": [
    {
     "data": {
      "text/plain": [
       "array([[1, 2],\n",
       "       [5, 6]])"
      ]
     },
     "execution_count": 19,
     "metadata": {},
     "output_type": "execute_result"
    }
   ],
   "source": [
    "np.array(t)"
   ]
  },
  {
   "cell_type": "code",
   "execution_count": 20,
   "id": "e585211d-61be-4481-9413-4077c995dbdc",
   "metadata": {},
   "outputs": [],
   "source": [
    "a=5"
   ]
  },
  {
   "cell_type": "code",
   "execution_count": 21,
   "id": "4ab31f60-040c-4ad7-a6f0-202c79beb012",
   "metadata": {},
   "outputs": [
    {
     "data": {
      "text/plain": [
       "array(5)"
      ]
     },
     "execution_count": 21,
     "metadata": {},
     "output_type": "execute_result"
    }
   ],
   "source": [
    "np.array(a)"
   ]
  },
  {
   "cell_type": "code",
   "execution_count": 22,
   "id": "24333371-425f-4dbb-9067-0c8fec82124f",
   "metadata": {},
   "outputs": [
    {
     "data": {
      "text/plain": [
       "array([1, 5, 7, 8, 9])"
      ]
     },
     "execution_count": 22,
     "metadata": {},
     "output_type": "execute_result"
    }
   ],
   "source": [
    "\n",
    "l=[1,5,7,8,9]\n",
    "arr=np.array(l)\n",
    "arr"
   ]
  },
  {
   "cell_type": "code",
   "execution_count": 23,
   "id": "4066089c-7682-4398-8fbe-56b0fe0d075e",
   "metadata": {},
   "outputs": [],
   "source": [
    "a=arr"
   ]
  },
  {
   "cell_type": "code",
   "execution_count": 24,
   "id": "eaaebbc0-3f47-458b-bc93-3c38d0e3d190",
   "metadata": {},
   "outputs": [
    {
     "data": {
      "text/plain": [
       "array([1, 5, 7, 8, 9])"
      ]
     },
     "execution_count": 24,
     "metadata": {},
     "output_type": "execute_result"
    }
   ],
   "source": [
    "a"
   ]
  },
  {
   "cell_type": "code",
   "execution_count": 25,
   "id": "42dfadd1-ce6a-43e0-838b-73c9d1befe2e",
   "metadata": {},
   "outputs": [],
   "source": [
    "arr[0]=1000"
   ]
  },
  {
   "cell_type": "code",
   "execution_count": 26,
   "id": "36f1855f-ed52-427c-9e23-21c7accc31cf",
   "metadata": {},
   "outputs": [
    {
     "data": {
      "text/plain": [
       "array([1000,    5,    7,    8,    9])"
      ]
     },
     "execution_count": 26,
     "metadata": {},
     "output_type": "execute_result"
    }
   ],
   "source": [
    "arr"
   ]
  },
  {
   "cell_type": "code",
   "execution_count": 27,
   "id": "886c1f75-dc0a-449d-923d-9d5ca235b489",
   "metadata": {},
   "outputs": [
    {
     "data": {
      "text/plain": [
       "array([1000,    5,    7,    8,    9])"
      ]
     },
     "execution_count": 27,
     "metadata": {},
     "output_type": "execute_result"
    }
   ],
   "source": [
    "\n",
    "a"
   ]
  },
  {
   "cell_type": "code",
   "execution_count": 28,
   "id": "7f73f0bf-871d-4862-b187-d6e2bdecb748",
   "metadata": {},
   "outputs": [],
   "source": [
    "a[0]=10000"
   ]
  },
  {
   "cell_type": "code",
   "execution_count": 29,
   "id": "5e39ab49-60d2-4b62-ba35-f08f7a3871cb",
   "metadata": {},
   "outputs": [
    {
     "data": {
      "text/plain": [
       "array([10000,     5,     7,     8,     9])"
      ]
     },
     "execution_count": 29,
     "metadata": {},
     "output_type": "execute_result"
    }
   ],
   "source": [
    "a"
   ]
  },
  {
   "cell_type": "code",
   "execution_count": 30,
   "id": "cc02df72-1439-488b-82d2-1ee8030855bf",
   "metadata": {},
   "outputs": [
    {
     "data": {
      "text/plain": [
       "array([10000,     5,     7,     8,     9])"
      ]
     },
     "execution_count": 30,
     "metadata": {},
     "output_type": "execute_result"
    }
   ],
   "source": [
    "arr"
   ]
  },
  {
   "cell_type": "code",
   "execution_count": 31,
   "id": "0aa5c879-d09a-4fd5-9ac6-4e4e0bd77077",
   "metadata": {},
   "outputs": [],
   "source": [
    "d=a.copy()\n",
    "a[0]=500"
   ]
  },
  {
   "cell_type": "code",
   "execution_count": 32,
   "id": "a3204400-b46c-4c58-9246-270841f39e16",
   "metadata": {},
   "outputs": [
    {
     "data": {
      "text/plain": [
       "array([10000,     5,     7,     8,     9])"
      ]
     },
     "execution_count": 32,
     "metadata": {},
     "output_type": "execute_result"
    }
   ],
   "source": [
    "d"
   ]
  },
  {
   "cell_type": "code",
   "execution_count": 33,
   "id": "7a458b4f-2732-4892-9ada-635643aa04e5",
   "metadata": {},
   "outputs": [
    {
     "data": {
      "text/plain": [
       "array([500,   5,   7,   8,   9])"
      ]
     },
     "execution_count": 33,
     "metadata": {},
     "output_type": "execute_result"
    }
   ],
   "source": [
    "a"
   ]
  },
  {
   "cell_type": "code",
   "execution_count": 34,
   "id": "014b256c-554a-4f7b-9ddf-73d688c04f77",
   "metadata": {},
   "outputs": [
    {
     "data": {
      "text/plain": [
       "array([10000,     5,     7,     8,     9])"
      ]
     },
     "execution_count": 34,
     "metadata": {},
     "output_type": "execute_result"
    }
   ],
   "source": [
    "d"
   ]
  },
  {
   "cell_type": "code",
   "execution_count": 35,
   "id": "b8391b05-44e9-4389-81d3-0965f4ce6c74",
   "metadata": {},
   "outputs": [
    {
     "data": {
      "text/plain": [
       "array([[ True, False, False, False],\n",
       "       [False,  True, False, False],\n",
       "       [False, False,  True, False],\n",
       "       [False, False, False,  True]])"
      ]
     },
     "execution_count": 35,
     "metadata": {},
     "output_type": "execute_result"
    }
   ],
   "source": [
    "np.fromfunction(lambda i,j: i==j, shape =(4,4))"
   ]
  },
  {
   "cell_type": "code",
   "execution_count": 36,
   "id": "b7def209-66f7-4391-8139-b086f33e0356",
   "metadata": {},
   "outputs": [
    {
     "data": {
      "text/plain": [
       "array(['1', '5', '4', '9', 'goutamt'], dtype='<U21')"
      ]
     },
     "execution_count": 36,
     "metadata": {},
     "output_type": "execute_result"
    }
   ],
   "source": [
    "arr1"
   ]
  },
  {
   "cell_type": "code",
   "execution_count": 37,
   "id": "dd538b05-5af5-4684-a935-0c55397304e8",
   "metadata": {},
   "outputs": [
    {
     "data": {
      "text/plain": [
       "(5,)"
      ]
     },
     "execution_count": 37,
     "metadata": {},
     "output_type": "execute_result"
    }
   ],
   "source": [
    "arr1.shape"
   ]
  },
  {
   "cell_type": "code",
   "execution_count": 38,
   "id": "71808b5e-d002-4913-b12b-b0e1ab93a766",
   "metadata": {},
   "outputs": [
    {
     "data": {
      "text/plain": [
       "5"
      ]
     },
     "execution_count": 38,
     "metadata": {},
     "output_type": "execute_result"
    }
   ],
   "source": [
    "arr1.size"
   ]
  },
  {
   "cell_type": "code",
   "execution_count": 39,
   "id": "1207b0cd-841c-4227-9fe6-68528f177ed4",
   "metadata": {},
   "outputs": [
    {
     "data": {
      "text/plain": [
       "array([[0., 0., 0., 0.],\n",
       "       [0., 1., 2., 3.],\n",
       "       [0., 2., 4., 6.],\n",
       "       [0., 3., 6., 9.]])"
      ]
     },
     "execution_count": 39,
     "metadata": {},
     "output_type": "execute_result"
    }
   ],
   "source": [
    "np.fromfunction(lambda i,j: i*j, shape =(4,4))"
   ]
  },
  {
   "cell_type": "code",
   "execution_count": 40,
   "id": "64800c5e-72b0-4b9e-b715-03762853cfb5",
   "metadata": {},
   "outputs": [],
   "source": [
    "iterable = (i*i for i in range(5))"
   ]
  },
  {
   "cell_type": "code",
   "execution_count": 41,
   "id": "d71ce03a-49a5-43f4-bb3e-20be538f3624",
   "metadata": {},
   "outputs": [
    {
     "data": {
      "text/plain": [
       "array([ 0,  1,  4,  9, 16])"
      ]
     },
     "execution_count": 41,
     "metadata": {},
     "output_type": "execute_result"
    }
   ],
   "source": [
    "np.fromiter(iterable, int)"
   ]
  },
  {
   "cell_type": "code",
   "execution_count": 42,
   "id": "464821e1-f9fa-4db4-9a5f-255da21b33d5",
   "metadata": {},
   "outputs": [
    {
     "name": "stderr",
     "output_type": "stream",
     "text": [
      "/tmp/ipykernel_77/3308290265.py:1: DeprecationWarning: string or file could not be read to its end due to unmatched data; this will raise a ValueError in the future.\n",
      "  np.fromstring('goutam gayatri hemanth 23 55 96', sep =\" \")\n"
     ]
    },
    {
     "data": {
      "text/plain": [
       "array([], dtype=float64)"
      ]
     },
     "execution_count": 42,
     "metadata": {},
     "output_type": "execute_result"
    }
   ],
   "source": [
    "np.fromstring('goutam gayatri hemanth 23 55 96', sep =\" \")"
   ]
  },
  {
   "cell_type": "code",
   "execution_count": 43,
   "id": "12bd78c9-aca4-4f47-97e3-c6d72dce33f7",
   "metadata": {},
   "outputs": [
    {
     "data": {
      "text/plain": [
       "dtype('int64')"
      ]
     },
     "execution_count": 43,
     "metadata": {},
     "output_type": "execute_result"
    }
   ],
   "source": [
    "arr.dtype"
   ]
  },
  {
   "cell_type": "code",
   "execution_count": 44,
   "id": "db9712f8-4471-4b37-9f71-3d785866fb6d",
   "metadata": {},
   "outputs": [
    {
     "data": {
      "text/plain": [
       "(5,)"
      ]
     },
     "execution_count": 44,
     "metadata": {},
     "output_type": "execute_result"
    }
   ],
   "source": [
    "arr.shape"
   ]
  },
  {
   "cell_type": "code",
   "execution_count": 45,
   "id": "32ab3e7d-3c97-4bef-b612-e2ee27622fb8",
   "metadata": {},
   "outputs": [
    {
     "data": {
      "text/plain": [
       "5"
      ]
     },
     "execution_count": 45,
     "metadata": {},
     "output_type": "execute_result"
    }
   ],
   "source": [
    "arr.size"
   ]
  },
  {
   "cell_type": "code",
   "execution_count": 46,
   "id": "aa78a639-4e2e-46f8-b448-65a033acbfc5",
   "metadata": {},
   "outputs": [
    {
     "data": {
      "text/plain": [
       "[0, 1, 2, 3, 4, 5]"
      ]
     },
     "execution_count": 46,
     "metadata": {},
     "output_type": "execute_result"
    }
   ],
   "source": [
    "list(range(6))"
   ]
  },
  {
   "cell_type": "code",
   "execution_count": 47,
   "id": "effea8f1-c777-431e-9754-2c500b796ee7",
   "metadata": {},
   "outputs": [
    {
     "data": {
      "text/plain": [
       "range(0, 6)"
      ]
     },
     "execution_count": 47,
     "metadata": {},
     "output_type": "execute_result"
    }
   ],
   "source": [
    "range(6)"
   ]
  },
  {
   "cell_type": "code",
   "execution_count": 51,
   "id": "88829ad6-0d59-4498-8635-625e0ddcee58",
   "metadata": {},
   "outputs": [
    {
     "data": {
      "text/plain": [
       "[1, 2]"
      ]
     },
     "execution_count": 51,
     "metadata": {},
     "output_type": "execute_result"
    }
   ],
   "source": [
    "list(range(1,3))"
   ]
  },
  {
   "cell_type": "code",
   "execution_count": 49,
   "id": "30d4fd15-10be-48ec-b7cd-e43d6879fc93",
   "metadata": {},
   "outputs": [
    {
     "data": {
      "text/plain": [
       "[0.2,\n",
       " 0.30000000000000004,\n",
       " 0.4000000000000001,\n",
       " 0.5000000000000001,\n",
       " 0.6000000000000001,\n",
       " 0.7000000000000002,\n",
       " 0.8000000000000003,\n",
       " 0.9000000000000001,\n",
       " 1.0000000000000002,\n",
       " 1.1000000000000003,\n",
       " 1.2000000000000004,\n",
       " 1.3000000000000003,\n",
       " 1.4000000000000004,\n",
       " 1.5000000000000004,\n",
       " 1.6000000000000003,\n",
       " 1.7000000000000004,\n",
       " 1.8000000000000005,\n",
       " 1.9000000000000006,\n",
       " 2.000000000000001,\n",
       " 2.1000000000000005,\n",
       " 2.200000000000001,\n",
       " 2.3000000000000007,\n",
       " 2.400000000000001,\n",
       " 2.500000000000001,\n",
       " 2.600000000000001,\n",
       " 2.700000000000001,\n",
       " 2.800000000000001,\n",
       " 2.9000000000000012,\n",
       " 3.000000000000001,\n",
       " 3.100000000000001,\n",
       " 3.200000000000001,\n",
       " 3.300000000000001,\n",
       " 3.4000000000000012,\n",
       " 3.5000000000000013,\n",
       " 3.6000000000000014,\n",
       " 3.7000000000000015,\n",
       " 3.8000000000000016,\n",
       " 3.9000000000000012,\n",
       " 4.000000000000001,\n",
       " 4.100000000000001,\n",
       " 4.200000000000002,\n",
       " 4.300000000000002,\n",
       " 4.400000000000001,\n",
       " 4.500000000000002,\n",
       " 4.600000000000001,\n",
       " 4.700000000000002,\n",
       " 4.800000000000002,\n",
       " 4.900000000000002,\n",
       " 5.000000000000002,\n",
       " 5.100000000000001,\n",
       " 5.200000000000002,\n",
       " 5.300000000000002,\n",
       " 5.400000000000002,\n",
       " 5.500000000000002,\n",
       " 5.600000000000002,\n",
       " 5.700000000000002,\n",
       " 5.800000000000002]"
      ]
     },
     "execution_count": 49,
     "metadata": {},
     "output_type": "execute_result"
    }
   ],
   "source": [
    "list(np.arange(0.2,5.9,0.1))"
   ]
  },
  {
   "cell_type": "code",
   "execution_count": 50,
   "id": "d78bc833-a5cb-4359-844e-9a9157021eb2",
   "metadata": {},
   "outputs": [
    {
     "data": {
      "text/plain": [
       "array([1.        , 1.13793103, 1.27586207, 1.4137931 , 1.55172414,\n",
       "       1.68965517, 1.82758621, 1.96551724, 2.10344828, 2.24137931,\n",
       "       2.37931034, 2.51724138, 2.65517241, 2.79310345, 2.93103448,\n",
       "       3.06896552, 3.20689655, 3.34482759, 3.48275862, 3.62068966,\n",
       "       3.75862069, 3.89655172, 4.03448276, 4.17241379, 4.31034483,\n",
       "       4.44827586, 4.5862069 , 4.72413793, 4.86206897, 5.        ])"
      ]
     },
     "execution_count": 50,
     "metadata": {},
     "output_type": "execute_result"
    }
   ],
   "source": [
    "(np.linspace(1,5,30))"
   ]
  },
  {
   "cell_type": "code",
   "execution_count": 51,
   "id": "c1ccbdc8-df3e-42d9-8671-f74299f8a8ca",
   "metadata": {},
   "outputs": [
    {
     "data": {
      "text/plain": [
       "array([ 2.        ,  2.72158   ,  3.70349885,  5.0396842 ,  6.85795186,\n",
       "        9.33223232, 12.69920842, 17.28095582, 23.51575188, 32.        ])"
      ]
     },
     "execution_count": 51,
     "metadata": {},
     "output_type": "execute_result"
    }
   ],
   "source": [
    "(np.logspace(1,5,10,base=2))"
   ]
  },
  {
   "cell_type": "code",
   "execution_count": 52,
   "id": "46df4a89-aade-49f7-8c93-624ee6ec3422",
   "metadata": {},
   "outputs": [
    {
     "data": {
      "text/plain": [
       "(5,)"
      ]
     },
     "execution_count": 52,
     "metadata": {},
     "output_type": "execute_result"
    }
   ],
   "source": [
    "arr1=np.zeros(5)\n",
    "arr.shape"
   ]
  },
  {
   "cell_type": "code",
   "execution_count": 53,
   "id": "3eace3b7-1db2-4be1-979e-5ff57e316ea2",
   "metadata": {},
   "outputs": [
    {
     "data": {
      "text/plain": [
       "(3, 4)"
      ]
     },
     "execution_count": 53,
     "metadata": {},
     "output_type": "execute_result"
    }
   ],
   "source": [
    "arr2=np.zeros((3,4),int)\n",
    "arr2.shape"
   ]
  },
  {
   "cell_type": "code",
   "execution_count": 54,
   "id": "e834a678-9f3d-4611-a725-dda67f3a8972",
   "metadata": {},
   "outputs": [
    {
     "data": {
      "text/plain": [
       "2"
      ]
     },
     "execution_count": 54,
     "metadata": {},
     "output_type": "execute_result"
    }
   ],
   "source": [
    "arr2.ndim"
   ]
  },
  {
   "cell_type": "code",
   "execution_count": 55,
   "id": "ab3d564f-64d6-4c5e-9d9a-65dc58681e2d",
   "metadata": {},
   "outputs": [
    {
     "data": {
      "text/plain": [
       "(3, 3, 4)"
      ]
     },
     "execution_count": 55,
     "metadata": {},
     "output_type": "execute_result"
    }
   ],
   "source": [
    "arr3=np.zeros((3,3,4),int)\n",
    "arr3.shape"
   ]
  },
  {
   "cell_type": "code",
   "execution_count": 56,
   "id": "f05d84d2-3103-437b-b1d1-5e1b18c4bc7d",
   "metadata": {},
   "outputs": [
    {
     "data": {
      "text/plain": [
       "array([[[0, 0, 0, 0],\n",
       "        [0, 0, 0, 0],\n",
       "        [0, 0, 0, 0]],\n",
       "\n",
       "       [[0, 0, 0, 0],\n",
       "        [0, 0, 0, 0],\n",
       "        [0, 0, 0, 0]],\n",
       "\n",
       "       [[0, 0, 0, 0],\n",
       "        [0, 0, 0, 0],\n",
       "        [0, 0, 0, 0]]])"
      ]
     },
     "execution_count": 56,
     "metadata": {},
     "output_type": "execute_result"
    }
   ],
   "source": [
    "arr3"
   ]
  },
  {
   "cell_type": "code",
   "execution_count": 57,
   "id": "b292bb89-264c-41e1-9def-81c5ec6e4a66",
   "metadata": {},
   "outputs": [
    {
     "data": {
      "text/plain": [
       "3"
      ]
     },
     "execution_count": 57,
     "metadata": {},
     "output_type": "execute_result"
    }
   ],
   "source": [
    "arr3.ndim"
   ]
  },
  {
   "cell_type": "code",
   "execution_count": 58,
   "id": "e4382535-9f00-4517-94d1-f6922f79f633",
   "metadata": {},
   "outputs": [],
   "source": [
    "arr=np.ones((3,3,5),int)"
   ]
  },
  {
   "cell_type": "code",
   "execution_count": 59,
   "id": "759ae37b-7bbe-49ac-8112-c1eb97683492",
   "metadata": {},
   "outputs": [
    {
     "data": {
      "text/plain": [
       "array([[[6, 6, 6, 6, 6],\n",
       "        [6, 6, 6, 6, 6],\n",
       "        [6, 6, 6, 6, 6]],\n",
       "\n",
       "       [[6, 6, 6, 6, 6],\n",
       "        [6, 6, 6, 6, 6],\n",
       "        [6, 6, 6, 6, 6]],\n",
       "\n",
       "       [[6, 6, 6, 6, 6],\n",
       "        [6, 6, 6, 6, 6],\n",
       "        [6, 6, 6, 6, 6]]])"
      ]
     },
     "execution_count": 59,
     "metadata": {},
     "output_type": "execute_result"
    }
   ],
   "source": [
    "arr+5"
   ]
  },
  {
   "cell_type": "code",
   "execution_count": 60,
   "id": "3b3525ad-12f0-4817-84ca-821dfab8d0f3",
   "metadata": {},
   "outputs": [
    {
     "data": {
      "text/plain": [
       "array([[[3, 3, 3, 3, 3],\n",
       "        [3, 3, 3, 3, 3],\n",
       "        [3, 3, 3, 3, 3]],\n",
       "\n",
       "       [[3, 3, 3, 3, 3],\n",
       "        [3, 3, 3, 3, 3],\n",
       "        [3, 3, 3, 3, 3]],\n",
       "\n",
       "       [[3, 3, 3, 3, 3],\n",
       "        [3, 3, 3, 3, 3],\n",
       "        [3, 3, 3, 3, 3]]])"
      ]
     },
     "execution_count": 60,
     "metadata": {},
     "output_type": "execute_result"
    }
   ],
   "source": [
    "arr*3"
   ]
  },
  {
   "cell_type": "code",
   "execution_count": 61,
   "id": "5f455124-7e51-4a25-a0ab-f31985578a26",
   "metadata": {},
   "outputs": [
    {
     "data": {
      "text/plain": [
       "range(0, 7)"
      ]
     },
     "execution_count": 61,
     "metadata": {},
     "output_type": "execute_result"
    }
   ],
   "source": [
    "range(7)"
   ]
  },
  {
   "cell_type": "code",
   "execution_count": 62,
   "id": "ac79d75f-3a35-4d2d-8396-34f803b36cbb",
   "metadata": {},
   "outputs": [
    {
     "name": "stdout",
     "output_type": "stream",
     "text": [
      "0\n",
      "1\n",
      "2\n",
      "3\n",
      "4\n",
      "5\n",
      "6\n",
      "7\n",
      "8\n"
     ]
    }
   ],
   "source": [
    "for i in range (9):\n",
    "    print(i)"
   ]
  },
  {
   "cell_type": "code",
   "execution_count": 63,
   "id": "d7bd45ab-0a8e-4d35-adb7-12f1c8078b2d",
   "metadata": {},
   "outputs": [],
   "source": [
    "import numpy as np"
   ]
  },
  {
   "cell_type": "code",
   "execution_count": 64,
   "id": "c8cc9f78-5b60-4b47-8feb-49704c563bc9",
   "metadata": {},
   "outputs": [],
   "source": [
    "arr = np.ones((3,4),int)"
   ]
  },
  {
   "cell_type": "code",
   "execution_count": 65,
   "id": "4ec06bd8-599c-4655-870b-3cbe0de2ad48",
   "metadata": {},
   "outputs": [
    {
     "data": {
      "text/plain": [
       "array([[1, 1, 1, 1],\n",
       "       [1, 1, 1, 1],\n",
       "       [1, 1, 1, 1]])"
      ]
     },
     "execution_count": 65,
     "metadata": {},
     "output_type": "execute_result"
    }
   ],
   "source": [
    "arr"
   ]
  },
  {
   "cell_type": "code",
   "execution_count": 66,
   "id": "e0879758-7e7e-404c-b79e-e1fb083e2db4",
   "metadata": {},
   "outputs": [
    {
     "data": {
      "text/plain": [
       "array([[8, 8, 8, 8],\n",
       "       [8, 8, 8, 8],\n",
       "       [8, 8, 8, 8]])"
      ]
     },
     "execution_count": 66,
     "metadata": {},
     "output_type": "execute_result"
    }
   ],
   "source": [
    "arr+7"
   ]
  },
  {
   "cell_type": "code",
   "execution_count": 67,
   "id": "b7c1a384-5c5f-424c-84a7-061e6e893523",
   "metadata": {},
   "outputs": [
    {
     "data": {
      "text/plain": [
       "array([[5, 5, 5, 5],\n",
       "       [5, 5, 5, 5],\n",
       "       [5, 5, 5, 5]])"
      ]
     },
     "execution_count": 67,
     "metadata": {},
     "output_type": "execute_result"
    }
   ],
   "source": [
    "arr*5"
   ]
  },
  {
   "cell_type": "code",
   "execution_count": 68,
   "id": "22d3fe78-f94f-41aa-b631-5cc3495466f1",
   "metadata": {},
   "outputs": [
    {
     "data": {
      "text/plain": [
       "array([['', '', '', '', ''],\n",
       "       ['', '', '', '', ''],\n",
       "       ['', '', '', '', ''],\n",
       "       ['', '', '', '', '']], dtype='<U1')"
      ]
     },
     "execution_count": 68,
     "metadata": {},
     "output_type": "execute_result"
    }
   ],
   "source": [
    "np.empty((4,5),str)"
   ]
  },
  {
   "cell_type": "code",
   "execution_count": 69,
   "id": "8681b2c3-39f2-4499-a52c-2a60e6805ba8",
   "metadata": {},
   "outputs": [
    {
     "data": {
      "text/plain": [
       "array([[1, 0, 0],\n",
       "       [0, 1, 0],\n",
       "       [0, 0, 1]])"
      ]
     },
     "execution_count": 69,
     "metadata": {},
     "output_type": "execute_result"
    }
   ],
   "source": [
    "np.eye(3,dtype=int) \n",
    "# to calculate inverse of a matrix"
   ]
  },
  {
   "cell_type": "code",
   "execution_count": 70,
   "id": "099b7d43-b8e0-409b-b96a-8569e957d056",
   "metadata": {},
   "outputs": [
    {
     "data": {
      "text/plain": [
       "array([4.68254821e-310, 0.00000000e+000, 4.68363344e-310, 4.68363347e-310,\n",
       "       2.37151510e-322])"
      ]
     },
     "execution_count": 70,
     "metadata": {},
     "output_type": "execute_result"
    }
   ],
   "source": [
    "np.empty(5)"
   ]
  },
  {
   "cell_type": "code",
   "execution_count": 71,
   "id": "3c1c7ceb-03a9-4e1a-8666-f723355cb1e1",
   "metadata": {},
   "outputs": [
    {
     "data": {
      "text/html": [
       "<div>\n",
       "<style scoped>\n",
       "    .dataframe tbody tr th:only-of-type {\n",
       "        vertical-align: middle;\n",
       "    }\n",
       "\n",
       "    .dataframe tbody tr th {\n",
       "        vertical-align: top;\n",
       "    }\n",
       "\n",
       "    .dataframe thead th {\n",
       "        text-align: right;\n",
       "    }\n",
       "</style>\n",
       "<table border=\"1\" class=\"dataframe\">\n",
       "  <thead>\n",
       "    <tr style=\"text-align: right;\">\n",
       "      <th></th>\n",
       "      <th>0</th>\n",
       "      <th>1</th>\n",
       "      <th>2</th>\n",
       "      <th>3</th>\n",
       "    </tr>\n",
       "  </thead>\n",
       "  <tbody>\n",
       "    <tr>\n",
       "      <th>0</th>\n",
       "      <td>1</td>\n",
       "      <td>1</td>\n",
       "      <td>1</td>\n",
       "      <td>1</td>\n",
       "    </tr>\n",
       "    <tr>\n",
       "      <th>1</th>\n",
       "      <td>1</td>\n",
       "      <td>1</td>\n",
       "      <td>1</td>\n",
       "      <td>1</td>\n",
       "    </tr>\n",
       "    <tr>\n",
       "      <th>2</th>\n",
       "      <td>1</td>\n",
       "      <td>1</td>\n",
       "      <td>1</td>\n",
       "      <td>1</td>\n",
       "    </tr>\n",
       "  </tbody>\n",
       "</table>\n",
       "</div>"
      ],
      "text/plain": [
       "   0  1  2  3\n",
       "0  1  1  1  1\n",
       "1  1  1  1  1\n",
       "2  1  1  1  1"
      ]
     },
     "execution_count": 71,
     "metadata": {},
     "output_type": "execute_result"
    }
   ],
   "source": [
    "# optional\n",
    "import pandas as pd\n",
    "pd.DataFrame(arr)"
   ]
  },
  {
   "cell_type": "code",
   "execution_count": 72,
   "id": "925c94c7-9e44-4be7-87af-f9f16dfb8bdd",
   "metadata": {},
   "outputs": [],
   "source": [
    "# extra topic\n",
    "import random"
   ]
  },
  {
   "cell_type": "code",
   "execution_count": 73,
   "id": "5a097308-7360-40fd-8b67-c5d09bac11a8",
   "metadata": {},
   "outputs": [
    {
     "data": {
      "text/plain": [
       "'goutam'"
      ]
     },
     "execution_count": 73,
     "metadata": {},
     "output_type": "execute_result"
    }
   ],
   "source": [
    "random.choice((1,2,3,4,5,\"goutam\"))"
   ]
  },
  {
   "cell_type": "code",
   "execution_count": 74,
   "id": "e5b96098-79ea-4967-98d4-2af0a7c14d3e",
   "metadata": {},
   "outputs": [
    {
     "data": {
      "text/plain": [
       "'u'"
      ]
     },
     "execution_count": 74,
     "metadata": {},
     "output_type": "execute_result"
    }
   ],
   "source": [
    "random.choice('goutam')"
   ]
  },
  {
   "cell_type": "code",
   "execution_count": 75,
   "id": "260920ce-497d-49ae-8a85-ea0f1474245e",
   "metadata": {},
   "outputs": [
    {
     "data": {
      "text/plain": [
       "18"
      ]
     },
     "execution_count": 75,
     "metadata": {},
     "output_type": "execute_result"
    }
   ],
   "source": [
    "random.randrange(1,19)"
   ]
  },
  {
   "cell_type": "code",
   "execution_count": 76,
   "id": "13202086-df4e-4c9a-8cdb-10b1d50fc7f7",
   "metadata": {},
   "outputs": [
    {
     "data": {
      "text/plain": [
       "30"
      ]
     },
     "execution_count": 76,
     "metadata": {},
     "output_type": "execute_result"
    }
   ],
   "source": [
    "random.randrange(1,200)"
   ]
  },
  {
   "cell_type": "code",
   "execution_count": 77,
   "id": "9d06498c-551a-48a9-9fe3-4bd51eeadd5f",
   "metadata": {},
   "outputs": [
    {
     "data": {
      "text/plain": [
       "0.6987963627973511"
      ]
     },
     "execution_count": 77,
     "metadata": {},
     "output_type": "execute_result"
    }
   ],
   "source": [
    "random.random() #a random number is generated between 0 and ,1 will excluded"
   ]
  },
  {
   "cell_type": "code",
   "execution_count": 78,
   "id": "51789003-d569-4382-ade8-53ba2acf49ea",
   "metadata": {},
   "outputs": [],
   "source": [
    "l=[1,4,5,7,8]\n",
    "random.shuffle(l)"
   ]
  },
  {
   "cell_type": "code",
   "execution_count": 79,
   "id": "74f918f3-1555-472b-87f0-bd5434c7d5f9",
   "metadata": {},
   "outputs": [
    {
     "data": {
      "text/plain": [
       "[7, 1, 8, 5, 4]"
      ]
     },
     "execution_count": 79,
     "metadata": {},
     "output_type": "execute_result"
    }
   ],
   "source": [
    "l"
   ]
  },
  {
   "cell_type": "code",
   "execution_count": 80,
   "id": "680eb0b1-e27a-4a76-99ea-54f02c6a25c8",
   "metadata": {},
   "outputs": [
    {
     "data": {
      "text/plain": [
       "21.24456654278464"
      ]
     },
     "execution_count": 80,
     "metadata": {},
     "output_type": "execute_result"
    }
   ],
   "source": [
    "random.uniform(19,40)"
   ]
  },
  {
   "cell_type": "code",
   "execution_count": 81,
   "id": "1bea2575-78f6-4a39-a4bc-1ceb52c2c531",
   "metadata": {},
   "outputs": [
    {
     "data": {
      "text/plain": [
       "array([[0.35889496, 0.98372994, 0.05773253, 0.51695629],\n",
       "       [0.00305321, 0.03677925, 0.58958209, 0.01500255]])"
      ]
     },
     "execution_count": 81,
     "metadata": {},
     "output_type": "execute_result"
    }
   ],
   "source": [
    "np.random.rand(2,4) #to generate random numbers by using numpy"
   ]
  },
  {
   "cell_type": "code",
   "execution_count": 82,
   "id": "dbae93b7-4297-430f-bd2c-b20fb00a4224",
   "metadata": {},
   "outputs": [
    {
     "data": {
      "text/plain": [
       "array([0.04702781])"
      ]
     },
     "execution_count": 82,
     "metadata": {},
     "output_type": "execute_result"
    }
   ],
   "source": [
    "np.random.rand(1)"
   ]
  },
  {
   "cell_type": "code",
   "execution_count": 83,
   "id": "ebac675f-6b0b-4df6-a36a-ec337c9203eb",
   "metadata": {},
   "outputs": [
    {
     "data": {
      "text/plain": [
       "array([[ 1.31268825, -0.21757538, -0.03382945],\n",
       "       [-0.94577468, -1.93666493,  0.56628899]])"
      ]
     },
     "execution_count": 83,
     "metadata": {},
     "output_type": "execute_result"
    }
   ],
   "source": [
    "np.random.randn(2,3)"
   ]
  },
  {
   "cell_type": "code",
   "execution_count": 84,
   "id": "7a0aaf98-0e32-454d-8dff-376df6c20d1d",
   "metadata": {},
   "outputs": [
    {
     "data": {
      "text/plain": [
       "0.9398151561143565"
      ]
     },
     "execution_count": 84,
     "metadata": {},
     "output_type": "execute_result"
    }
   ],
   "source": [
    "np.random.random_sample() #to gen a random number between 0 and ,1 is excluded"
   ]
  },
  {
   "cell_type": "code",
   "execution_count": 85,
   "id": "6ea158ff-5007-4109-86d9-7c03aa750574",
   "metadata": {},
   "outputs": [],
   "source": [
    "arr=np.random.randint(1,5,(2,3))"
   ]
  },
  {
   "cell_type": "code",
   "execution_count": 86,
   "id": "ec5eeccd-bdff-4529-b423-9a1c23f9c75d",
   "metadata": {},
   "outputs": [
    {
     "data": {
      "text/plain": [
       "(2, 3)"
      ]
     },
     "execution_count": 86,
     "metadata": {},
     "output_type": "execute_result"
    }
   ],
   "source": [
    "np.shape(arr)"
   ]
  },
  {
   "cell_type": "code",
   "execution_count": 87,
   "id": "253704e5-3cf8-45ae-a6fa-b579064ee73f",
   "metadata": {},
   "outputs": [
    {
     "data": {
      "text/plain": [
       "6"
      ]
     },
     "execution_count": 87,
     "metadata": {},
     "output_type": "execute_result"
    }
   ],
   "source": [
    "arr.size"
   ]
  },
  {
   "cell_type": "code",
   "execution_count": 88,
   "id": "9f033c65-7656-41fe-adf6-66df839de690",
   "metadata": {},
   "outputs": [
    {
     "data": {
      "text/plain": [
       "array([[2, 1, 1],\n",
       "       [2, 2, 4]])"
      ]
     },
     "execution_count": 88,
     "metadata": {},
     "output_type": "execute_result"
    }
   ],
   "source": [
    "arr"
   ]
  },
  {
   "cell_type": "code",
   "execution_count": 89,
   "id": "2800dc21-cd61-436f-89dd-63f8e6db4a6a",
   "metadata": {},
   "outputs": [
    {
     "data": {
      "text/plain": [
       "array([2, 1, 1, 2, 2, 4])"
      ]
     },
     "execution_count": 89,
     "metadata": {},
     "output_type": "execute_result"
    }
   ],
   "source": [
    "arr.reshape(6) # reshape will happen if it is the multyple of size"
   ]
  },
  {
   "cell_type": "code",
   "execution_count": 90,
   "id": "a4e46159-0696-4fef-acf0-5b34deada07c",
   "metadata": {},
   "outputs": [
    {
     "data": {
      "text/plain": [
       "array([[2, 1, 1],\n",
       "       [2, 2, 4]])"
      ]
     },
     "execution_count": 90,
     "metadata": {},
     "output_type": "execute_result"
    }
   ],
   "source": [
    "arr"
   ]
  },
  {
   "cell_type": "code",
   "execution_count": 91,
   "id": "afdd4e14-5451-4fe4-8fed-977e67a23643",
   "metadata": {},
   "outputs": [
    {
     "data": {
      "text/plain": [
       "array([[2, 1],\n",
       "       [1, 2],\n",
       "       [2, 4]])"
      ]
     },
     "execution_count": 91,
     "metadata": {},
     "output_type": "execute_result"
    }
   ],
   "source": [
    "arr.reshape(-1, 2) # if i dont know the number of one system in the arr size"
   ]
  },
  {
   "cell_type": "code",
   "execution_count": 92,
   "id": "c18a4097-1bfc-40f7-8839-6726ae2bfac4",
   "metadata": {},
   "outputs": [
    {
     "data": {
      "text/plain": [
       "array([[2, 1, 1],\n",
       "       [2, 2, 4]])"
      ]
     },
     "execution_count": 92,
     "metadata": {},
     "output_type": "execute_result"
    }
   ],
   "source": [
    "arr.reshape(3,2).base"
   ]
  },
  {
   "cell_type": "code",
   "execution_count": 93,
   "id": "53858b46-6ed9-41c1-ad59-0664b03bafb1",
   "metadata": {},
   "outputs": [
    {
     "data": {
      "text/plain": [
       "6"
      ]
     },
     "execution_count": 93,
     "metadata": {},
     "output_type": "execute_result"
    }
   ],
   "source": [
    "arr.size"
   ]
  },
  {
   "cell_type": "code",
   "execution_count": 94,
   "id": "09a3e7ef-85f3-4aad-972b-8a8a849ccb47",
   "metadata": {},
   "outputs": [
    {
     "data": {
      "text/plain": [
       "array([[[2, 1]],\n",
       "\n",
       "       [[1, 2]],\n",
       "\n",
       "       [[2, 4]]])"
      ]
     },
     "execution_count": 94,
     "metadata": {},
     "output_type": "execute_result"
    }
   ],
   "source": [
    "arr.reshape(3,1,2)"
   ]
  },
  {
   "cell_type": "code",
   "execution_count": 95,
   "id": "2dc397f0-2610-4b6e-ad8b-1f2dea259124",
   "metadata": {},
   "outputs": [
    {
     "data": {
      "text/plain": [
       "array([[[[2],\n",
       "         [1],\n",
       "         [1]]],\n",
       "\n",
       "\n",
       "       [[[2],\n",
       "         [2],\n",
       "         [4]]]])"
      ]
     },
     "execution_count": 95,
     "metadata": {},
     "output_type": "execute_result"
    }
   ],
   "source": [
    "arr.reshape(2,1,3,1)"
   ]
  },
  {
   "cell_type": "code",
   "execution_count": 96,
   "id": "31fa6ebe-26d9-4041-8e75-939702dbf7bf",
   "metadata": {},
   "outputs": [],
   "source": [
    "list=[1,2,3,4]\n",
    "arr=np.array(list)"
   ]
  },
  {
   "cell_type": "code",
   "execution_count": 97,
   "id": "de879c7b-cb0f-4093-bbd0-a2743bb35aec",
   "metadata": {},
   "outputs": [
    {
     "data": {
      "text/plain": [
       "1"
      ]
     },
     "execution_count": 97,
     "metadata": {},
     "output_type": "execute_result"
    }
   ],
   "source": [
    "arr.ndim"
   ]
  },
  {
   "cell_type": "code",
   "execution_count": 98,
   "id": "b99e75eb-b410-45a9-8bdb-16b6ecbd75c9",
   "metadata": {},
   "outputs": [],
   "source": [
    "arr2=np.array([[2,3],[4,5]])"
   ]
  },
  {
   "cell_type": "code",
   "execution_count": 99,
   "id": "363ea100-7b55-4004-97be-487eff80e62f",
   "metadata": {},
   "outputs": [
    {
     "data": {
      "text/plain": [
       "2"
      ]
     },
     "execution_count": 99,
     "metadata": {},
     "output_type": "execute_result"
    }
   ],
   "source": [
    "arr2.ndim"
   ]
  },
  {
   "cell_type": "code",
   "execution_count": 100,
   "id": "06630fcb-3ba4-4864-99cf-688998aae721",
   "metadata": {},
   "outputs": [],
   "source": [
    "arr2=np.zeros((3,4),int)"
   ]
  },
  {
   "cell_type": "code",
   "execution_count": 101,
   "id": "15cd8af5-b9c5-4590-9b15-ab136cdb2a8b",
   "metadata": {},
   "outputs": [
    {
     "data": {
      "text/plain": [
       "array([[0, 0, 0, 0],\n",
       "       [0, 0, 0, 0],\n",
       "       [0, 0, 0, 0]])"
      ]
     },
     "execution_count": 101,
     "metadata": {},
     "output_type": "execute_result"
    }
   ],
   "source": [
    "arr2"
   ]
  },
  {
   "cell_type": "code",
   "execution_count": 102,
   "id": "611cdea5-46df-40d7-8794-16a4f226f3cb",
   "metadata": {},
   "outputs": [
    {
     "data": {
      "text/plain": [
       "2"
      ]
     },
     "execution_count": 102,
     "metadata": {},
     "output_type": "execute_result"
    }
   ],
   "source": [
    "arr2.ndim"
   ]
  },
  {
   "cell_type": "code",
   "execution_count": 103,
   "id": "14e301c9-4c5d-47cb-baa1-a763ceb8093b",
   "metadata": {},
   "outputs": [],
   "source": [
    "arr3 = np.zeros((1,3,4),int) # 3 rows,4 coloumns,1 extra dimension"
   ]
  },
  {
   "cell_type": "code",
   "execution_count": 104,
   "id": "67de0cdc-9929-4ce4-9a40-52f03eff7803",
   "metadata": {},
   "outputs": [
    {
     "data": {
      "text/plain": [
       "array([[[0, 0, 0, 0],\n",
       "        [0, 0, 0, 0],\n",
       "        [0, 0, 0, 0]]])"
      ]
     },
     "execution_count": 104,
     "metadata": {},
     "output_type": "execute_result"
    }
   ],
   "source": [
    "arr3"
   ]
  },
  {
   "cell_type": "code",
   "execution_count": 105,
   "id": "06d001f0-a460-4ff5-8573-e8f2275790a7",
   "metadata": {},
   "outputs": [
    {
     "data": {
      "text/plain": [
       "3"
      ]
     },
     "execution_count": 105,
     "metadata": {},
     "output_type": "execute_result"
    }
   ],
   "source": [
    "arr3.ndim"
   ]
  },
  {
   "cell_type": "code",
   "execution_count": 106,
   "id": "e9b3d2c5-f7c1-42cd-a146-09d6710eb333",
   "metadata": {},
   "outputs": [],
   "source": [
    "arr4 = np.zeros((1,1,3,4),int)"
   ]
  },
  {
   "cell_type": "code",
   "execution_count": 107,
   "id": "563f64ff-1ac9-4582-a8c5-c75444983171",
   "metadata": {},
   "outputs": [
    {
     "data": {
      "text/plain": [
       "array([[[[0, 0, 0, 0],\n",
       "         [0, 0, 0, 0],\n",
       "         [0, 0, 0, 0]]]])"
      ]
     },
     "execution_count": 107,
     "metadata": {},
     "output_type": "execute_result"
    }
   ],
   "source": [
    "arr4"
   ]
  },
  {
   "cell_type": "code",
   "execution_count": 108,
   "id": "d020da75-3e83-485d-bae0-56e8608e6f95",
   "metadata": {},
   "outputs": [
    {
     "data": {
      "text/plain": [
       "4"
      ]
     },
     "execution_count": 108,
     "metadata": {},
     "output_type": "execute_result"
    }
   ],
   "source": [
    "arr4.ndim"
   ]
  },
  {
   "cell_type": "code",
   "execution_count": 109,
   "id": "2c27de73-fa01-478c-ba52-f329d3731ee5",
   "metadata": {},
   "outputs": [],
   "source": [
    "arr2=np.zeros((2,3,4),int)"
   ]
  },
  {
   "cell_type": "code",
   "execution_count": 110,
   "id": "b114b87a-6deb-4f59-8068-ecea5a91bd74",
   "metadata": {},
   "outputs": [
    {
     "data": {
      "text/plain": [
       "array([[[0, 0, 0, 0],\n",
       "        [0, 0, 0, 0],\n",
       "        [0, 0, 0, 0]],\n",
       "\n",
       "       [[0, 0, 0, 0],\n",
       "        [0, 0, 0, 0],\n",
       "        [0, 0, 0, 0]]])"
      ]
     },
     "execution_count": 110,
     "metadata": {},
     "output_type": "execute_result"
    }
   ],
   "source": [
    "arr2"
   ]
  },
  {
   "cell_type": "code",
   "execution_count": 111,
   "id": "dab9949e-5d31-4200-a1f8-0c7249fbcbc7",
   "metadata": {},
   "outputs": [],
   "source": [
    "arr1=np.random.randint(1,10,(5,6))"
   ]
  },
  {
   "cell_type": "code",
   "execution_count": 112,
   "id": "c03ba94a-f9b4-482f-8cab-5e7d6407ee34",
   "metadata": {},
   "outputs": [
    {
     "data": {
      "text/plain": [
       "array([[9, 3, 5, 8, 1, 6],\n",
       "       [2, 6, 9, 9, 9, 8],\n",
       "       [4, 6, 5, 6, 5, 4],\n",
       "       [1, 5, 6, 7, 2, 3],\n",
       "       [6, 4, 7, 3, 6, 7]])"
      ]
     },
     "execution_count": 112,
     "metadata": {},
     "output_type": "execute_result"
    }
   ],
   "source": [
    "arr1"
   ]
  },
  {
   "cell_type": "code",
   "execution_count": 113,
   "id": "327b216c-eba8-48ea-8990-d20646a91147",
   "metadata": {},
   "outputs": [
    {
     "data": {
      "text/plain": [
       "array([[ True, False,  True,  True, False,  True],\n",
       "       [False,  True,  True,  True,  True,  True],\n",
       "       [False,  True,  True,  True,  True, False],\n",
       "       [False,  True,  True,  True, False, False],\n",
       "       [ True, False,  True, False,  True,  True]])"
      ]
     },
     "execution_count": 113,
     "metadata": {},
     "output_type": "execute_result"
    }
   ],
   "source": [
    "arr1 > 4"
   ]
  },
  {
   "cell_type": "code",
   "execution_count": 114,
   "id": "c006f38c-f3c7-4d8b-afa4-fcbaeebc1f8a",
   "metadata": {},
   "outputs": [
    {
     "data": {
      "text/plain": [
       "array([9, 5, 8, 6, 6, 9, 9, 9, 8, 6, 5, 6, 5, 5, 6, 7, 6, 7, 6, 7])"
      ]
     },
     "execution_count": 114,
     "metadata": {},
     "output_type": "execute_result"
    }
   ],
   "source": [
    "arr1[arr1 > 4]"
   ]
  },
  {
   "cell_type": "code",
   "execution_count": 115,
   "id": "2deedca0-0bf0-4cad-afdd-11da7434ddb5",
   "metadata": {},
   "outputs": [
    {
     "data": {
      "text/plain": [
       "array([[9, 3, 5, 8, 1, 6],\n",
       "       [2, 6, 9, 9, 9, 8],\n",
       "       [4, 6, 5, 6, 5, 4],\n",
       "       [1, 5, 6, 7, 2, 3],\n",
       "       [6, 4, 7, 3, 6, 7]])"
      ]
     },
     "execution_count": 115,
     "metadata": {},
     "output_type": "execute_result"
    }
   ],
   "source": [
    "arr1"
   ]
  },
  {
   "cell_type": "code",
   "execution_count": 116,
   "id": "357409af-9451-4de0-a682-1ddefe58444a",
   "metadata": {},
   "outputs": [
    {
     "data": {
      "text/plain": [
       "array([9, 3, 5, 8, 1, 6])"
      ]
     },
     "execution_count": 116,
     "metadata": {},
     "output_type": "execute_result"
    }
   ],
   "source": [
    "arr1[0]"
   ]
  },
  {
   "cell_type": "code",
   "execution_count": 117,
   "id": "eb2a72c4-d91c-4eb9-9b56-89a30c4d8102",
   "metadata": {},
   "outputs": [
    {
     "data": {
      "text/plain": [
       "1"
      ]
     },
     "execution_count": 117,
     "metadata": {},
     "output_type": "execute_result"
    }
   ],
   "source": [
    "arr1[0][4]"
   ]
  },
  {
   "cell_type": "code",
   "execution_count": 118,
   "id": "396fb8be-4568-4562-97af-c72aa60406cb",
   "metadata": {},
   "outputs": [],
   "source": [
    "import numpy as np"
   ]
  },
  {
   "cell_type": "code",
   "execution_count": 119,
   "id": "93c64ded-5f71-42ad-b206-34ccaebe3c52",
   "metadata": {},
   "outputs": [],
   "source": [
    "a= np.array([[7,5.3,-3],[3,-5,2],[5,3,-7]])"
   ]
  },
  {
   "cell_type": "code",
   "execution_count": 120,
   "id": "c013fd77-4574-4ac8-97b7-a2f606a687e7",
   "metadata": {},
   "outputs": [
    {
     "data": {
      "text/plain": [
       "array([[ 7. ,  5.3, -3. ],\n",
       "       [ 3. , -5. ,  2. ],\n",
       "       [ 5. ,  3. , -7. ]])"
      ]
     },
     "execution_count": 120,
     "metadata": {},
     "output_type": "execute_result"
    }
   ],
   "source": [
    "a"
   ]
  },
  {
   "cell_type": "code",
   "execution_count": 121,
   "id": "a97c8814-1fd8-4952-8039-29b424e8a098",
   "metadata": {},
   "outputs": [],
   "source": [
    "b= np.array([16,-8,0])"
   ]
  },
  {
   "cell_type": "code",
   "execution_count": 122,
   "id": "5225e9af-5591-485b-a7ca-f0f957d56c4d",
   "metadata": {},
   "outputs": [
    {
     "data": {
      "text/plain": [
       "array([16, -8,  0])"
      ]
     },
     "execution_count": 122,
     "metadata": {},
     "output_type": "execute_result"
    }
   ],
   "source": [
    "b"
   ]
  },
  {
   "cell_type": "code",
   "execution_count": 123,
   "id": "72d1760b-ea8b-4b3f-8ca2-36c10ced556e",
   "metadata": {},
   "outputs": [
    {
     "data": {
      "text/plain": [
       "array([0.90162081, 2.89483603, 1.88465888])"
      ]
     },
     "execution_count": 123,
     "metadata": {},
     "output_type": "execute_result"
    }
   ],
   "source": [
    "np.linalg.solve(a,b)"
   ]
  },
  {
   "cell_type": "code",
   "execution_count": 124,
   "id": "f1be6aa2-2c6c-4c27-acc2-adf6eba3b38f",
   "metadata": {},
   "outputs": [],
   "source": [
    "arr= np.array([[2,3],[4,5]])"
   ]
  },
  {
   "cell_type": "code",
   "execution_count": 125,
   "id": "08bb59c0-5f85-405b-8bbe-70d6706e9ae9",
   "metadata": {},
   "outputs": [
    {
     "data": {
      "text/plain": [
       "array([[2, 3],\n",
       "       [4, 5]])"
      ]
     },
     "execution_count": 125,
     "metadata": {},
     "output_type": "execute_result"
    }
   ],
   "source": [
    "arr"
   ]
  },
  {
   "cell_type": "code",
   "execution_count": 126,
   "id": "1b8203c7-4edb-4abf-aafe-f6bfdbdd39db",
   "metadata": {},
   "outputs": [
    {
     "data": {
      "text/plain": [
       "-2"
      ]
     },
     "execution_count": 126,
     "metadata": {},
     "output_type": "execute_result"
    }
   ],
   "source": [
    "5*2 - 3*4"
   ]
  },
  {
   "cell_type": "code",
   "execution_count": 127,
   "id": "eb2febd2-7c9c-4795-b3ab-898312b4c80d",
   "metadata": {},
   "outputs": [
    {
     "data": {
      "text/plain": [
       "-2.0"
      ]
     },
     "execution_count": 127,
     "metadata": {},
     "output_type": "execute_result"
    }
   ],
   "source": [
    "np.linalg.det(arr )"
   ]
  },
  {
   "cell_type": "code",
   "execution_count": 128,
   "id": "9c5b2485-8eee-4a44-a8c9-66b7d784f1f4",
   "metadata": {},
   "outputs": [
    {
     "data": {
      "text/plain": [
       "array([[-2.5,  1.5],\n",
       "       [ 2. , -1. ]])"
      ]
     },
     "execution_count": 128,
     "metadata": {},
     "output_type": "execute_result"
    }
   ],
   "source": [
    "np.linalg.inv(arr )"
   ]
  },
  {
   "cell_type": "code",
   "execution_count": 130,
   "id": "35e515dd-7332-441d-ab62-81e609dd7a81",
   "metadata": {},
   "outputs": [
    {
     "data": {
      "text/plain": [
       "array([[ True, False, False],\n",
       "       [False,  True, False],\n",
       "       [False, False,  True]])"
      ]
     },
     "execution_count": 130,
     "metadata": {},
     "output_type": "execute_result"
    }
   ],
   "source": [
    "np.fromfunction( lambda i,j : i==j, (3,3))"
   ]
  },
  {
   "cell_type": "code",
   "execution_count": 137,
   "id": "fa4c9d61-8351-441b-970c-b69d0ffe7ca3",
   "metadata": {},
   "outputs": [
    {
     "data": {
      "text/plain": [
       "array([[0., 0., 0.],\n",
       "       [0., 1., 2.],\n",
       "       [0., 2., 4.]])"
      ]
     },
     "execution_count": 137,
     "metadata": {},
     "output_type": "execute_result"
    }
   ],
   "source": [
    "np.fromfunction( lambda i,j : i*j, (3,3))"
   ]
  },
  {
   "cell_type": "code",
   "execution_count": 131,
   "id": "2dc33806-6d2b-4982-a166-a1103646cffb",
   "metadata": {},
   "outputs": [
    {
     "data": {
      "text/plain": [
       "array([[9, 3, 5, 8, 1, 6],\n",
       "       [2, 6, 9, 9, 9, 8],\n",
       "       [4, 6, 5, 6, 5, 4],\n",
       "       [1, 5, 6, 7, 2, 3],\n",
       "       [6, 4, 7, 3, 6, 7]])"
      ]
     },
     "execution_count": 131,
     "metadata": {},
     "output_type": "execute_result"
    }
   ],
   "source": [
    "arr1"
   ]
  },
  {
   "cell_type": "code",
   "execution_count": 133,
   "id": "6a16abc4-2951-4938-83d2-8bf173ae30ff",
   "metadata": {},
   "outputs": [
    {
     "data": {
      "text/plain": [
       "(5, 6)"
      ]
     },
     "execution_count": 133,
     "metadata": {},
     "output_type": "execute_result"
    }
   ],
   "source": [
    "arr1.shape"
   ]
  },
  {
   "cell_type": "code",
   "execution_count": 134,
   "id": "837e479f-5492-4566-8e26-edc04aa920fe",
   "metadata": {},
   "outputs": [
    {
     "data": {
      "text/plain": [
       "array([[2, 3],\n",
       "       [4, 5]])"
      ]
     },
     "execution_count": 134,
     "metadata": {},
     "output_type": "execute_result"
    }
   ],
   "source": [
    "arr"
   ]
  },
  {
   "cell_type": "code",
   "execution_count": 135,
   "id": "8a5c6968-56cc-486e-aabb-a2b18e9e13fb",
   "metadata": {},
   "outputs": [
    {
     "data": {
      "text/plain": [
       "(2, 2)"
      ]
     },
     "execution_count": 135,
     "metadata": {},
     "output_type": "execute_result"
    }
   ],
   "source": [
    "arr.shape"
   ]
  },
  {
   "cell_type": "code",
   "execution_count": 136,
   "id": "5915f420-30a1-4008-9451-06f9150146e9",
   "metadata": {},
   "outputs": [
    {
     "data": {
      "text/plain": [
       "4"
      ]
     },
     "execution_count": 136,
     "metadata": {},
     "output_type": "execute_result"
    }
   ],
   "source": [
    "arr.size"
   ]
  },
  {
   "cell_type": "code",
   "execution_count": 138,
   "id": "913d71b3-b6f6-48bc-b3e7-2caa70980739",
   "metadata": {},
   "outputs": [],
   "source": [
    "iterable=(i*i for i in range(5))"
   ]
  },
  {
   "cell_type": "code",
   "execution_count": 140,
   "id": "80d6cd72-b708-456b-962a-254cd04d7d7b",
   "metadata": {},
   "outputs": [
    {
     "data": {
      "text/plain": [
       "array([ 0,  1,  4,  9, 16])"
      ]
     },
     "execution_count": 140,
     "metadata": {},
     "output_type": "execute_result"
    }
   ],
   "source": [
    "np.fromiter(iterable,int)"
   ]
  },
  {
   "cell_type": "code",
   "execution_count": 146,
   "id": "95acd440-e074-4fe8-b125-20de4555f7e3",
   "metadata": {},
   "outputs": [
    {
     "data": {
      "text/plain": [
       "array([23., 45., 78.])"
      ]
     },
     "execution_count": 146,
     "metadata": {},
     "output_type": "execute_result"
    }
   ],
   "source": [
    "np.fromstring(\"23  45  78\",sep = \"  \")"
   ]
  },
  {
   "cell_type": "code",
   "execution_count": 5,
   "id": "59b4d16d-ec6d-4501-9f28-cad27ab1b541",
   "metadata": {},
   "outputs": [
    {
     "data": {
      "text/plain": [
       "array([[1, 1, 1, 1, 1],\n",
       "       [1, 1, 1, 1, 1],\n",
       "       [1, 1, 1, 1, 1]])"
      ]
     },
     "execution_count": 5,
     "metadata": {},
     "output_type": "execute_result"
    }
   ],
   "source": [
    "import numpy as np\n",
    "arr = np.ones((3,5), int)\n",
    "arr"
   ]
  },
  {
   "cell_type": "code",
   "execution_count": 6,
   "id": "53451de7-73db-421c-a5b3-4f0e2e785656",
   "metadata": {},
   "outputs": [
    {
     "data": {
      "text/plain": [
       "array([[6, 6, 6, 6, 6],\n",
       "       [6, 6, 6, 6, 6],\n",
       "       [6, 6, 6, 6, 6]])"
      ]
     },
     "execution_count": 6,
     "metadata": {},
     "output_type": "execute_result"
    }
   ],
   "source": [
    "arr+5"
   ]
  },
  {
   "cell_type": "code",
   "execution_count": 9,
   "id": "71e253f4-f11d-4f64-8db4-63e73135ce28",
   "metadata": {},
   "outputs": [
    {
     "data": {
      "text/plain": [
       "array([[6, 6, 6, 6, 6],\n",
       "       [6, 6, 6, 6, 6],\n",
       "       [6, 6, 6, 6, 6]])"
      ]
     },
     "execution_count": 9,
     "metadata": {},
     "output_type": "execute_result"
    }
   ],
   "source": [
    "arr*6"
   ]
  },
  {
   "cell_type": "code",
   "execution_count": 20,
   "id": "4ecf546e-8753-4dee-9a94-856d0efd6ad3",
   "metadata": {},
   "outputs": [
    {
     "data": {
      "text/plain": [
       "array([[72340172821233665, 72340172838076673],\n",
       "       [72340172838076673, 72340172838076673]])"
      ]
     },
     "execution_count": 20,
     "metadata": {},
     "output_type": "execute_result"
    }
   ],
   "source": [
    "np.empty((2,2),int)"
   ]
  },
  {
   "cell_type": "code",
   "execution_count": 26,
   "id": "9c6c38eb-c74a-4af5-81a2-8c06ed9ef8d6",
   "metadata": {
    "jp-MarkdownHeadingCollapsed": true,
    "tags": []
   },
   "outputs": [
    {
     "data": {
      "text/plain": [
       "array([[1., 0., 0., 0., 0., 0.],\n",
       "       [0., 1., 0., 0., 0., 0.],\n",
       "       [0., 0., 1., 0., 0., 0.],\n",
       "       [0., 0., 0., 1., 0., 0.],\n",
       "       [0., 0., 0., 0., 1., 0.],\n",
       "       [0., 0., 0., 0., 0., 1.]])"
      ]
     },
     "execution_count": 26,
     "metadata": {},
     "output_type": "execute_result"
    }
   ],
   "source": [
    "np.eye(6)"
   ]
  },
  {
   "cell_type": "code",
   "execution_count": 28,
   "id": "adfb8fbe-a455-4ee6-903f-3e09b21c71b2",
   "metadata": {},
   "outputs": [
    {
     "data": {
      "text/html": [
       "<div>\n",
       "<style scoped>\n",
       "    .dataframe tbody tr th:only-of-type {\n",
       "        vertical-align: middle;\n",
       "    }\n",
       "\n",
       "    .dataframe tbody tr th {\n",
       "        vertical-align: top;\n",
       "    }\n",
       "\n",
       "    .dataframe thead th {\n",
       "        text-align: right;\n",
       "    }\n",
       "</style>\n",
       "<table border=\"1\" class=\"dataframe\">\n",
       "  <thead>\n",
       "    <tr style=\"text-align: right;\">\n",
       "      <th></th>\n",
       "      <th>0</th>\n",
       "      <th>1</th>\n",
       "      <th>2</th>\n",
       "      <th>3</th>\n",
       "      <th>4</th>\n",
       "    </tr>\n",
       "  </thead>\n",
       "  <tbody>\n",
       "    <tr>\n",
       "      <th>0</th>\n",
       "      <td>1</td>\n",
       "      <td>1</td>\n",
       "      <td>1</td>\n",
       "      <td>1</td>\n",
       "      <td>1</td>\n",
       "    </tr>\n",
       "    <tr>\n",
       "      <th>1</th>\n",
       "      <td>1</td>\n",
       "      <td>1</td>\n",
       "      <td>1</td>\n",
       "      <td>1</td>\n",
       "      <td>1</td>\n",
       "    </tr>\n",
       "    <tr>\n",
       "      <th>2</th>\n",
       "      <td>1</td>\n",
       "      <td>1</td>\n",
       "      <td>1</td>\n",
       "      <td>1</td>\n",
       "      <td>1</td>\n",
       "    </tr>\n",
       "  </tbody>\n",
       "</table>\n",
       "</div>"
      ],
      "text/plain": [
       "   0  1  2  3  4\n",
       "0  1  1  1  1  1\n",
       "1  1  1  1  1  1\n",
       "2  1  1  1  1  1"
      ]
     },
     "execution_count": 28,
     "metadata": {},
     "output_type": "execute_result"
    }
   ],
   "source": [
    "# optional\n",
    "\n",
    "import pandas as pd\n",
    "pd.DataFrame(arr)"
   ]
  },
  {
   "cell_type": "code",
   "execution_count": 29,
   "id": "f50d9b00-41cc-4610-b3ad-04ec2423308f",
   "metadata": {},
   "outputs": [],
   "source": [
    "# extra topic\n",
    "import random"
   ]
  },
  {
   "cell_type": "code",
   "execution_count": 34,
   "id": "661eff2a-9643-4d71-bfd8-a20f2ad08ea0",
   "metadata": {},
   "outputs": [
    {
     "data": {
      "text/plain": [
       "5"
      ]
     },
     "execution_count": 34,
     "metadata": {},
     "output_type": "execute_result"
    }
   ],
   "source": [
    "random.choice((1,2,3,4,5))"
   ]
  },
  {
   "cell_type": "code",
   "execution_count": 37,
   "id": "24685eea-c21c-4ab2-bbef-235b4172db38",
   "metadata": {},
   "outputs": [
    {
     "data": {
      "text/plain": [
       "3"
      ]
     },
     "execution_count": 37,
     "metadata": {},
     "output_type": "execute_result"
    }
   ],
   "source": [
    "random.randrange(1,50)"
   ]
  },
  {
   "cell_type": "code",
   "execution_count": 38,
   "id": "5f2cda34-eac8-41d8-9e92-8c5f5294419c",
   "metadata": {},
   "outputs": [
    {
     "data": {
      "text/plain": [
       "0.5010763166543517"
      ]
     },
     "execution_count": 38,
     "metadata": {},
     "output_type": "execute_result"
    }
   ],
   "source": [
    "random.random() "
   ]
  },
  {
   "cell_type": "code",
   "execution_count": 45,
   "id": "633a4ff4-2c33-4f20-aa30-7bbb3e7d8053",
   "metadata": {},
   "outputs": [],
   "source": [
    "lis = [8,7,5,6,9]\n",
    "random.shuffle(lis)"
   ]
  },
  {
   "cell_type": "code",
   "execution_count": 46,
   "id": "5c13c51a-f27e-41a6-b44d-0beb0090257f",
   "metadata": {},
   "outputs": [
    {
     "data": {
      "text/plain": [
       "[8, 7, 6, 5, 9]"
      ]
     },
     "execution_count": 46,
     "metadata": {},
     "output_type": "execute_result"
    }
   ],
   "source": [
    "lis"
   ]
  },
  {
   "cell_type": "code",
   "execution_count": 55,
   "id": "5daae55a-f2e9-4889-b185-3a9ef2e2f923",
   "metadata": {},
   "outputs": [
    {
     "data": {
      "text/plain": [
       "95.33256233390765"
      ]
     },
     "execution_count": 55,
     "metadata": {},
     "output_type": "execute_result"
    }
   ],
   "source": [
    "random.uniform(0,196)"
   ]
  },
  {
   "cell_type": "code",
   "execution_count": 56,
   "id": "4d1fc336-69fa-48db-879e-957556c0daca",
   "metadata": {},
   "outputs": [
    {
     "data": {
      "text/plain": [
       "array([[0.02774051, 0.24631669, 0.90514154],\n",
       "       [0.19028138, 0.90080798, 0.98657925]])"
      ]
     },
     "execution_count": 56,
     "metadata": {},
     "output_type": "execute_result"
    }
   ],
   "source": [
    "np.random.rand(2,3)"
   ]
  },
  {
   "cell_type": "code",
   "execution_count": 57,
   "id": "d7f0ad04-cea1-4277-aa40-c7f3f290593a",
   "metadata": {},
   "outputs": [
    {
     "data": {
      "text/plain": [
       "array([0.10404207])"
      ]
     },
     "execution_count": 57,
     "metadata": {},
     "output_type": "execute_result"
    }
   ],
   "source": [
    "np.random.rand(1)"
   ]
  },
  {
   "cell_type": "code",
   "execution_count": 2,
   "id": "e72658da-bccb-415b-b92a-6a10a35253b6",
   "metadata": {},
   "outputs": [],
   "source": [
    "import numpy as np"
   ]
  },
  {
   "cell_type": "code",
   "execution_count": 3,
   "id": "ad703f1e-15a1-4114-83e2-05707138be66",
   "metadata": {},
   "outputs": [
    {
     "data": {
      "text/plain": [
       "0.44363946157260337"
      ]
     },
     "execution_count": 3,
     "metadata": {},
     "output_type": "execute_result"
    }
   ],
   "source": [
    "np.random.random_sample()"
   ]
  },
  {
   "cell_type": "code",
   "execution_count": 4,
   "id": "03c984b4-463e-4eee-b89a-5bffa72cc375",
   "metadata": {},
   "outputs": [
    {
     "data": {
      "text/plain": [
       "array([[1, 1, 2, 4],\n",
       "       [1, 1, 2, 2],\n",
       "       [3, 3, 2, 4]])"
      ]
     },
     "execution_count": 4,
     "metadata": {},
     "output_type": "execute_result"
    }
   ],
   "source": [
    "np.random.randint(1,5,(3,4))"
   ]
  },
  {
   "cell_type": "code",
   "execution_count": 5,
   "id": "722b6ba8-0a0c-4de7-bc5d-9ec90a47dee9",
   "metadata": {},
   "outputs": [],
   "source": [
    "arr =np.random.randint(1,5,(3,4))"
   ]
  },
  {
   "cell_type": "code",
   "execution_count": 6,
   "id": "74ca2d84-0a9d-4f46-a7a8-dd00a8d06c72",
   "metadata": {},
   "outputs": [
    {
     "data": {
      "text/plain": [
       "2"
      ]
     },
     "execution_count": 6,
     "metadata": {},
     "output_type": "execute_result"
    }
   ],
   "source": [
    "arr.ndim"
   ]
  },
  {
   "cell_type": "code",
   "execution_count": 7,
   "id": "85abb467-cc53-4e28-b0b1-90a31223923c",
   "metadata": {},
   "outputs": [
    {
     "data": {
      "text/plain": [
       "12"
      ]
     },
     "execution_count": 7,
     "metadata": {},
     "output_type": "execute_result"
    }
   ],
   "source": [
    "arr.size"
   ]
  },
  {
   "cell_type": "code",
   "execution_count": 8,
   "id": "5a381729-db23-4b9f-b4d3-19cb6d79d24e",
   "metadata": {},
   "outputs": [
    {
     "data": {
      "text/plain": [
       "(3, 4)"
      ]
     },
     "execution_count": 8,
     "metadata": {},
     "output_type": "execute_result"
    }
   ],
   "source": [
    "arr.shape"
   ]
  },
  {
   "cell_type": "code",
   "execution_count": 9,
   "id": "d824c121-37d5-4acd-bbc5-cf198a11c138",
   "metadata": {},
   "outputs": [
    {
     "data": {
      "text/plain": [
       "array([[4, 3, 2, 2, 3, 2],\n",
       "       [3, 3, 1, 1, 4, 4]])"
      ]
     },
     "execution_count": 9,
     "metadata": {},
     "output_type": "execute_result"
    }
   ],
   "source": [
    "arr.reshape(2,6)"
   ]
  },
  {
   "cell_type": "code",
   "execution_count": 10,
   "id": "399284a4-e66b-4ecf-af3a-160bcf9e8df9",
   "metadata": {},
   "outputs": [
    {
     "data": {
      "text/plain": [
       "array([[4, 3, 2],\n",
       "       [2, 3, 2],\n",
       "       [3, 3, 1],\n",
       "       [1, 4, 4]])"
      ]
     },
     "execution_count": 10,
     "metadata": {},
     "output_type": "execute_result"
    }
   ],
   "source": [
    "arr.reshape(4,3)"
   ]
  },
  {
   "cell_type": "code",
   "execution_count": 11,
   "id": "e4d2cc77-1f79-4943-b467-bd5dee400629",
   "metadata": {},
   "outputs": [
    {
     "data": {
      "text/plain": [
       "array([4, 3, 2, 2, 3, 2, 3, 3, 1, 1, 4, 4])"
      ]
     },
     "execution_count": 11,
     "metadata": {},
     "output_type": "execute_result"
    }
   ],
   "source": [
    "arr.reshape(12,)"
   ]
  },
  {
   "cell_type": "code",
   "execution_count": 12,
   "id": "baa69edc-2d7c-47ee-ac95-be38642dd402",
   "metadata": {},
   "outputs": [
    {
     "data": {
      "text/plain": [
       "array([[4],\n",
       "       [3],\n",
       "       [2],\n",
       "       [2],\n",
       "       [3],\n",
       "       [2],\n",
       "       [3],\n",
       "       [3],\n",
       "       [1],\n",
       "       [1],\n",
       "       [4],\n",
       "       [4]])"
      ]
     },
     "execution_count": 12,
     "metadata": {},
     "output_type": "execute_result"
    }
   ],
   "source": [
    "arr.reshape(12,1)"
   ]
  },
  {
   "cell_type": "code",
   "execution_count": 13,
   "id": "16ff0fd8-68d5-43ba-9084-4791deb9161a",
   "metadata": {},
   "outputs": [
    {
     "data": {
      "text/plain": [
       "array([[4, 3, 2],\n",
       "       [2, 3, 2],\n",
       "       [3, 3, 1],\n",
       "       [1, 4, 4]])"
      ]
     },
     "execution_count": 13,
     "metadata": {},
     "output_type": "execute_result"
    }
   ],
   "source": [
    "arr.reshape(4,-1) # if you don't know the number of columns"
   ]
  },
  {
   "cell_type": "markdown",
   "id": "831a3392-cf00-4db7-9650-120143beb92f",
   "metadata": {},
   "source": [
    "we need to know atleast one count of the matrix to reshape it "
   ]
  },
  {
   "cell_type": "code",
   "execution_count": 14,
   "id": "b9b7b4ff-be64-4ced-ac03-b2811d82e3a3",
   "metadata": {},
   "outputs": [
    {
     "data": {
      "text/plain": [
       "array([[4, 3, 2, 2],\n",
       "       [3, 2, 3, 3],\n",
       "       [1, 1, 4, 4]])"
      ]
     },
     "execution_count": 14,
     "metadata": {},
     "output_type": "execute_result"
    }
   ],
   "source": [
    "arr.reshape(12,1).base"
   ]
  },
  {
   "cell_type": "code",
   "execution_count": 17,
   "id": "0a5accaf-97f5-41b5-b521-aa99ef12ad59",
   "metadata": {},
   "outputs": [
    {
     "data": {
      "text/plain": [
       "array([[[4, 3],\n",
       "        [2, 2]],\n",
       "\n",
       "       [[3, 2],\n",
       "        [3, 3]],\n",
       "\n",
       "       [[1, 1],\n",
       "        [4, 4]]])"
      ]
     },
     "execution_count": 17,
     "metadata": {},
     "output_type": "execute_result"
    }
   ],
   "source": [
    "arr.reshape(3,2,2)"
   ]
  },
  {
   "cell_type": "code",
   "execution_count": 19,
   "id": "07e3632e-e901-4ef4-b64f-2f9aeda65980",
   "metadata": {},
   "outputs": [
    {
     "data": {
      "text/plain": [
       "array([[[[[[4, 3, 2],\n",
       "           [2, 3, 2]],\n",
       "\n",
       "          [[3, 3, 1],\n",
       "           [1, 4, 4]]]]]])"
      ]
     },
     "execution_count": 19,
     "metadata": {},
     "output_type": "execute_result"
    }
   ],
   "source": [
    "arr.reshape(1,1,1,2,2,3)"
   ]
  },
  {
   "cell_type": "code",
   "execution_count": 20,
   "id": "8dcb4687-19cd-44d9-ba88-a3f081c9bbb1",
   "metadata": {},
   "outputs": [],
   "source": [
    "list = [1,2,6,5]"
   ]
  },
  {
   "cell_type": "code",
   "execution_count": 23,
   "id": "1d17a867-b636-41f7-8910-26e677b622e5",
   "metadata": {},
   "outputs": [],
   "source": [
    "arr=np.array(list)"
   ]
  },
  {
   "cell_type": "code",
   "execution_count": 24,
   "id": "0e9b30d4-8b7e-4ec2-930b-176481f82754",
   "metadata": {},
   "outputs": [
    {
     "data": {
      "text/plain": [
       "1"
      ]
     },
     "execution_count": 24,
     "metadata": {},
     "output_type": "execute_result"
    }
   ],
   "source": [
    "arr.ndim"
   ]
  },
  {
   "cell_type": "code",
   "execution_count": 26,
   "id": "6bfd8f0d-39ad-4ebc-a641-abf1ddab92ae",
   "metadata": {},
   "outputs": [],
   "source": [
    "arr2 = np.array([[2,3],[4,5]])"
   ]
  },
  {
   "cell_type": "code",
   "execution_count": 27,
   "id": "a285133c-e622-4cd3-a828-52b697e28c49",
   "metadata": {},
   "outputs": [
    {
     "data": {
      "text/plain": [
       "2"
      ]
     },
     "execution_count": 27,
     "metadata": {},
     "output_type": "execute_result"
    }
   ],
   "source": [
    "arr2.ndim"
   ]
  },
  {
   "cell_type": "code",
   "execution_count": 28,
   "id": "815a6c41-0598-415c-9565-f9dabdc2cdd2",
   "metadata": {},
   "outputs": [
    {
     "data": {
      "text/plain": [
       "array([[0., 0., 0., 0., 0.],\n",
       "       [0., 0., 0., 0., 0.],\n",
       "       [0., 0., 0., 0., 0.],\n",
       "       [0., 0., 0., 0., 0.]])"
      ]
     },
     "execution_count": 28,
     "metadata": {},
     "output_type": "execute_result"
    }
   ],
   "source": [
    "arr2= np.zeros((4,5))\n",
    "arr2"
   ]
  },
  {
   "cell_type": "code",
   "execution_count": 29,
   "id": "cdf6d148-041b-476f-af18-bce07cc0b722",
   "metadata": {},
   "outputs": [
    {
     "data": {
      "text/plain": [
       "2"
      ]
     },
     "execution_count": 29,
     "metadata": {},
     "output_type": "execute_result"
    }
   ],
   "source": [
    "arr2.ndim"
   ]
  },
  {
   "cell_type": "code",
   "execution_count": 31,
   "id": "d6392120-686b-407e-8119-fc93a42d3f2a",
   "metadata": {},
   "outputs": [
    {
     "data": {
      "text/plain": [
       "array([[[0., 0., 0.],\n",
       "        [0., 0., 0.]]])"
      ]
     },
     "execution_count": 31,
     "metadata": {},
     "output_type": "execute_result"
    }
   ],
   "source": [
    "arr3=np.zeros((1,2,3))\n",
    "arr3"
   ]
  },
  {
   "cell_type": "code",
   "execution_count": 33,
   "id": "2efe44be-3e4d-4356-a464-b8377590a5b1",
   "metadata": {},
   "outputs": [
    {
     "data": {
      "text/plain": [
       "3"
      ]
     },
     "execution_count": 33,
     "metadata": {},
     "output_type": "execute_result"
    }
   ],
   "source": [
    "arr3.ndim"
   ]
  },
  {
   "cell_type": "code",
   "execution_count": 34,
   "id": "6186149c-a311-4820-a900-07e3a7b14c34",
   "metadata": {},
   "outputs": [
    {
     "data": {
      "text/plain": [
       "(1, 2, 3)"
      ]
     },
     "execution_count": 34,
     "metadata": {},
     "output_type": "execute_result"
    }
   ],
   "source": [
    "arr3.shape"
   ]
  },
  {
   "cell_type": "code",
   "execution_count": 38,
   "id": "ef7fdecf-4899-412e-82af-517416dddb06",
   "metadata": {},
   "outputs": [],
   "source": [
    "arr4 = np.ones((1,1,4,2),int)"
   ]
  },
  {
   "cell_type": "code",
   "execution_count": 39,
   "id": "6503f3fc-89c2-4404-9f6c-88ec07d55596",
   "metadata": {},
   "outputs": [
    {
     "data": {
      "text/plain": [
       "array([[[[1, 1],\n",
       "         [1, 1],\n",
       "         [1, 1],\n",
       "         [1, 1]]]])"
      ]
     },
     "execution_count": 39,
     "metadata": {},
     "output_type": "execute_result"
    }
   ],
   "source": [
    "arr4"
   ]
  },
  {
   "cell_type": "code",
   "execution_count": 40,
   "id": "01fbb639-b627-43c5-a599-0a8a08fcc529",
   "metadata": {},
   "outputs": [
    {
     "data": {
      "text/plain": [
       "4"
      ]
     },
     "execution_count": 40,
     "metadata": {},
     "output_type": "execute_result"
    }
   ],
   "source": [
    "arr4.ndim"
   ]
  },
  {
   "cell_type": "code",
   "execution_count": 47,
   "id": "36a04105-c317-454e-9503-c98aa939eecf",
   "metadata": {},
   "outputs": [
    {
     "data": {
      "text/plain": [
       "array([[[0., 0., 0., 0., 0.],\n",
       "        [0., 0., 0., 0., 0.],\n",
       "        [0., 0., 0., 0., 0.],\n",
       "        [0., 0., 0., 0., 0.]],\n",
       "\n",
       "       [[0., 0., 0., 0., 0.],\n",
       "        [0., 0., 0., 0., 0.],\n",
       "        [0., 0., 0., 0., 0.],\n",
       "        [0., 0., 0., 0., 0.]]])"
      ]
     },
     "execution_count": 47,
     "metadata": {},
     "output_type": "execute_result"
    }
   ],
   "source": [
    "arr2= np.zeros((2,4,5))\n",
    "arr2"
   ]
  },
  {
   "cell_type": "code",
   "execution_count": 44,
   "id": "2b297c6f-63a0-4b07-8089-568d6fbec540",
   "metadata": {},
   "outputs": [
    {
     "data": {
      "text/plain": [
       "3"
      ]
     },
     "execution_count": 44,
     "metadata": {},
     "output_type": "execute_result"
    }
   ],
   "source": [
    "arr2.ndim"
   ]
  },
  {
   "cell_type": "code",
   "execution_count": 48,
   "id": "2f5d2795-540f-428d-951e-01b6119a631c",
   "metadata": {},
   "outputs": [
    {
     "data": {
      "text/plain": [
       "(2, 4, 5)"
      ]
     },
     "execution_count": 48,
     "metadata": {},
     "output_type": "execute_result"
    }
   ],
   "source": [
    "arr2.shape"
   ]
  },
  {
   "cell_type": "code",
   "execution_count": 52,
   "id": "6e498462-fc9e-47de-9280-16bfbc6001b9",
   "metadata": {},
   "outputs": [],
   "source": [
    "arr1=np.random.randint(1,10,(5,6))"
   ]
  },
  {
   "cell_type": "code",
   "execution_count": 53,
   "id": "63ca97ba-0b57-4613-a5a8-8f95726f8a2c",
   "metadata": {},
   "outputs": [
    {
     "data": {
      "text/plain": [
       "array([[False,  True,  True, False, False,  True],\n",
       "       [ True, False, False,  True,  True,  True],\n",
       "       [ True, False,  True,  True,  True,  True],\n",
       "       [ True, False, False, False, False,  True],\n",
       "       [False,  True,  True, False, False,  True]])"
      ]
     },
     "execution_count": 53,
     "metadata": {},
     "output_type": "execute_result"
    }
   ],
   "source": [
    "arr1>5"
   ]
  },
  {
   "cell_type": "code",
   "execution_count": 55,
   "id": "c90f212e-a1a4-4d07-9857-50711257d65e",
   "metadata": {},
   "outputs": [
    {
     "data": {
      "text/plain": [
       "array([7, 9, 6, 8, 7, 9, 9, 9, 7, 7, 7, 7, 7, 8, 9, 6, 9])"
      ]
     },
     "execution_count": 55,
     "metadata": {},
     "output_type": "execute_result"
    }
   ],
   "source": [
    "arr1[arr1>5]"
   ]
  },
  {
   "cell_type": "code",
   "execution_count": 56,
   "id": "ff662e8a-41c1-4842-98ce-188540b11c25",
   "metadata": {},
   "outputs": [
    {
     "data": {
      "text/plain": [
       "array([2, 1, 2, 3, 2, 4, 3, 2, 1, 4])"
      ]
     },
     "execution_count": 56,
     "metadata": {},
     "output_type": "execute_result"
    }
   ],
   "source": [
    "arr1[arr1<5]"
   ]
  },
  {
   "cell_type": "code",
   "execution_count": 57,
   "id": "20bf5197-e6cc-4de8-85d3-6d7c2c52dbb4",
   "metadata": {},
   "outputs": [
    {
     "data": {
      "text/plain": [
       "array([1, 2, 6, 5])"
      ]
     },
     "execution_count": 57,
     "metadata": {},
     "output_type": "execute_result"
    }
   ],
   "source": [
    "arr"
   ]
  },
  {
   "cell_type": "code",
   "execution_count": 61,
   "id": "fd14793b-9fb0-47ed-872b-c5317c3ea792",
   "metadata": {},
   "outputs": [
    {
     "data": {
      "text/plain": [
       "5"
      ]
     },
     "execution_count": 61,
     "metadata": {},
     "output_type": "execute_result"
    }
   ],
   "source": [
    "arr[3]"
   ]
  },
  {
   "cell_type": "code",
   "execution_count": 62,
   "id": "56525f23-915c-4005-af6a-e1762fafff8a",
   "metadata": {},
   "outputs": [
    {
     "data": {
      "text/plain": [
       "array([[2, 7, 9, 1, 2, 6],\n",
       "       [8, 3, 2, 7, 9, 9],\n",
       "       [9, 5, 7, 7, 7, 7],\n",
       "       [7, 4, 5, 3, 2, 8],\n",
       "       [5, 9, 6, 1, 4, 9]])"
      ]
     },
     "execution_count": 62,
     "metadata": {},
     "output_type": "execute_result"
    }
   ],
   "source": [
    "arr1"
   ]
  },
  {
   "cell_type": "code",
   "execution_count": 77,
   "id": "a25632ab-2ded-44c9-8e0b-805601cbf96f",
   "metadata": {},
   "outputs": [
    {
     "data": {
      "text/plain": [
       "6"
      ]
     },
     "execution_count": 77,
     "metadata": {},
     "output_type": "execute_result"
    }
   ],
   "source": [
    "arr1[0][5]"
   ]
  },
  {
   "cell_type": "code",
   "execution_count": 72,
   "id": "70423d57-bb7d-40ec-9879-c80e57f745cb",
   "metadata": {},
   "outputs": [
    {
     "data": {
      "text/plain": [
       "array([2, 9])"
      ]
     },
     "execution_count": 72,
     "metadata": {},
     "output_type": "execute_result"
    }
   ],
   "source": [
    "arr1[0,[0,2]]"
   ]
  },
  {
   "cell_type": "code",
   "execution_count": 78,
   "id": "7f356a58-451d-43de-b1fc-c407a8fcf0fe",
   "metadata": {},
   "outputs": [
    {
     "data": {
      "text/plain": [
       "array([[9, 7],\n",
       "       [7, 3],\n",
       "       [5, 1]])"
      ]
     },
     "execution_count": 78,
     "metadata": {},
     "output_type": "execute_result"
    }
   ],
   "source": [
    "arr1[2:6,(0,3)] #slicing of matrix "
   ]
  },
  {
   "cell_type": "code",
   "execution_count": 79,
   "id": "38be1f56-0a21-4613-a479-efa4bb9bebe6",
   "metadata": {},
   "outputs": [
    {
     "data": {
      "text/plain": [
       "array([[9, 5, 7, 7, 7, 7],\n",
       "       [5, 9, 6, 1, 4, 9]])"
      ]
     },
     "execution_count": 79,
     "metadata": {},
     "output_type": "execute_result"
    }
   ],
   "source": [
    "arr1[[2,4]]"
   ]
  },
  {
   "cell_type": "code",
   "execution_count": 80,
   "id": "5f677510-f4be-428a-9eae-bd0cd147bfd0",
   "metadata": {},
   "outputs": [
    {
     "data": {
      "text/plain": [
       "array([[9, 5, 7, 7, 7, 7],\n",
       "       [7, 4, 5, 3, 2, 8]])"
      ]
     },
     "execution_count": 80,
     "metadata": {},
     "output_type": "execute_result"
    }
   ],
   "source": [
    "arr1[2:4]"
   ]
  },
  {
   "cell_type": "code",
   "execution_count": 85,
   "id": "eccf9dab-56f1-4746-8c29-e4e741d80320",
   "metadata": {},
   "outputs": [
    {
     "data": {
      "text/plain": [
       "array([[5, 7],\n",
       "       [4, 3],\n",
       "       [9, 1]])"
      ]
     },
     "execution_count": 85,
     "metadata": {},
     "output_type": "execute_result"
    }
   ],
   "source": [
    "arr1[2:5,[1,3]]"
   ]
  },
  {
   "cell_type": "code",
   "execution_count": 82,
   "id": "fc220f9a-ce91-4604-9fc7-d94168a162b9",
   "metadata": {},
   "outputs": [
    {
     "data": {
      "text/plain": [
       "array([[2, 7, 9, 1, 2, 6],\n",
       "       [8, 3, 2, 7, 9, 9],\n",
       "       [9, 5, 7, 7, 7, 7],\n",
       "       [7, 4, 5, 3, 2, 8],\n",
       "       [5, 9, 6, 1, 4, 9]])"
      ]
     },
     "execution_count": 82,
     "metadata": {},
     "output_type": "execute_result"
    }
   ],
   "source": [
    "arr1"
   ]
  },
  {
   "cell_type": "code",
   "execution_count": 89,
   "id": "bf6f0277-258b-4f84-8d10-de3ce60a0963",
   "metadata": {},
   "outputs": [],
   "source": [
    "arr1 = np.random.randint(1,3,(3,3))\n",
    "arr2 = np.random.randint(1,3,(3,3))"
   ]
  },
  {
   "cell_type": "code",
   "execution_count": 100,
   "id": "f1ab5ff4-b09b-45dd-bdd7-42e0c9fbebfa",
   "metadata": {},
   "outputs": [
    {
     "data": {
      "text/plain": [
       "array([[1, 2, 1],\n",
       "       [1, 1, 1],\n",
       "       [2, 1, 1]])"
      ]
     },
     "execution_count": 100,
     "metadata": {},
     "output_type": "execute_result"
    }
   ],
   "source": [
    "arr1"
   ]
  },
  {
   "cell_type": "code",
   "execution_count": 101,
   "id": "5332e631-098d-4a24-8bb4-24be098a5270",
   "metadata": {},
   "outputs": [
    {
     "data": {
      "text/plain": [
       "array([[1, 2, 2],\n",
       "       [2, 2, 2],\n",
       "       [2, 2, 2]])"
      ]
     },
     "execution_count": 101,
     "metadata": {},
     "output_type": "execute_result"
    }
   ],
   "source": [
    "arr2"
   ]
  },
  {
   "cell_type": "code",
   "execution_count": 102,
   "id": "e1ba688e-e295-483f-ab6a-5562a1750a27",
   "metadata": {},
   "outputs": [
    {
     "data": {
      "text/plain": [
       "array([[2, 4, 3],\n",
       "       [3, 3, 3],\n",
       "       [4, 3, 3]])"
      ]
     },
     "execution_count": 102,
     "metadata": {},
     "output_type": "execute_result"
    }
   ],
   "source": [
    "arr1+arr2"
   ]
  },
  {
   "cell_type": "code",
   "execution_count": 103,
   "id": "fa88ca19-6c57-4459-a5f8-adf05fdca494",
   "metadata": {},
   "outputs": [
    {
     "data": {
      "text/plain": [
       "array([[1, 4, 2],\n",
       "       [2, 2, 2],\n",
       "       [4, 2, 2]])"
      ]
     },
     "execution_count": 103,
     "metadata": {},
     "output_type": "execute_result"
    }
   ],
   "source": [
    "arr1 * arr2"
   ]
  },
  {
   "cell_type": "code",
   "execution_count": 93,
   "id": "9430d749-d855-4b95-97e0-39509e0d4c68",
   "metadata": {},
   "outputs": [
    {
     "data": {
      "text/plain": [
       "array([[ 0,  0, -1],\n",
       "       [-1, -1, -1],\n",
       "       [ 0, -1, -1]])"
      ]
     },
     "execution_count": 93,
     "metadata": {},
     "output_type": "execute_result"
    }
   ],
   "source": [
    "arr1-arr2"
   ]
  },
  {
   "cell_type": "code",
   "execution_count": 104,
   "id": "4f02ee70-cb80-4dd9-9ba6-7a078a13f21e",
   "metadata": {},
   "outputs": [
    {
     "data": {
      "text/plain": [
       "array([[7, 8, 8],\n",
       "       [5, 6, 6],\n",
       "       [6, 8, 8]])"
      ]
     },
     "execution_count": 104,
     "metadata": {},
     "output_type": "execute_result"
    }
   ],
   "source": [
    "arr1@arr2"
   ]
  },
  {
   "cell_type": "code",
   "execution_count": 106,
   "id": "25ec1d4d-0a26-45e6-9c4f-b98311e5f976",
   "metadata": {},
   "outputs": [
    {
     "data": {
      "text/plain": [
       "array([[1. , 1. , 0.5],\n",
       "       [0.5, 0.5, 0.5],\n",
       "       [1. , 0.5, 0.5]])"
      ]
     },
     "execution_count": 106,
     "metadata": {},
     "output_type": "execute_result"
    }
   ],
   "source": [
    "arr1/arr2"
   ]
  },
  {
   "cell_type": "code",
   "execution_count": 107,
   "id": "99a398f7-47fd-4c8e-9aae-9cd949463b15",
   "metadata": {},
   "outputs": [
    {
     "name": "stderr",
     "output_type": "stream",
     "text": [
      "/tmp/ipykernel_98/1510032488.py:1: RuntimeWarning: divide by zero encountered in divide\n",
      "  arr1/0\n"
     ]
    },
    {
     "data": {
      "text/plain": [
       "array([[inf, inf, inf],\n",
       "       [inf, inf, inf],\n",
       "       [inf, inf, inf]])"
      ]
     },
     "execution_count": 107,
     "metadata": {},
     "output_type": "execute_result"
    }
   ],
   "source": [
    "arr1/0"
   ]
  },
  {
   "cell_type": "markdown",
   "id": "7c391740-85b2-496e-a37c-5b15da7a7817",
   "metadata": {
    "jp-MarkdownHeadingCollapsed": true,
    "tags": []
   },
   "source": [
    "# Broad casting"
   ]
  },
  {
   "cell_type": "code",
   "execution_count": 110,
   "id": "e52a3019-f434-4ae5-b036-f14bc4b691b2",
   "metadata": {},
   "outputs": [],
   "source": [
    "arr=np.zeros((3,4))"
   ]
  },
  {
   "cell_type": "code",
   "execution_count": 111,
   "id": "d1091f14-883e-402b-b095-b508633c93d8",
   "metadata": {},
   "outputs": [
    {
     "data": {
      "text/plain": [
       "array([[0., 0., 0., 0.],\n",
       "       [0., 0., 0., 0.],\n",
       "       [0., 0., 0., 0.]])"
      ]
     },
     "execution_count": 111,
     "metadata": {},
     "output_type": "execute_result"
    }
   ],
   "source": [
    "arr"
   ]
  },
  {
   "cell_type": "code",
   "execution_count": 112,
   "id": "c7f9dba0-a3c2-4aa1-9012-6d7df16a4a57",
   "metadata": {},
   "outputs": [
    {
     "data": {
      "text/plain": [
       "array([[5., 5., 5., 5.],\n",
       "       [5., 5., 5., 5.],\n",
       "       [5., 5., 5., 5.]])"
      ]
     },
     "execution_count": 112,
     "metadata": {},
     "output_type": "execute_result"
    }
   ],
   "source": [
    "arr+5"
   ]
  },
  {
   "cell_type": "code",
   "execution_count": 122,
   "id": "ab3d2744-1d74-4f9e-80ea-77fb829ac91f",
   "metadata": {},
   "outputs": [],
   "source": [
    "a=np.array([1,2,3,4])"
   ]
  },
  {
   "cell_type": "code",
   "execution_count": 123,
   "id": "ca6e8a51-f0c6-4038-88f5-c826d3b7ebe3",
   "metadata": {},
   "outputs": [
    {
     "data": {
      "text/plain": [
       "array([1, 2, 3, 4])"
      ]
     },
     "execution_count": 123,
     "metadata": {},
     "output_type": "execute_result"
    }
   ],
   "source": [
    "a"
   ]
  },
  {
   "cell_type": "code",
   "execution_count": 124,
   "id": "08286429-5a52-49eb-b8cc-9edbcbffe6f9",
   "metadata": {},
   "outputs": [
    {
     "data": {
      "text/plain": [
       "array([[1., 2., 3., 4.],\n",
       "       [1., 2., 3., 4.],\n",
       "       [1., 2., 3., 4.]])"
      ]
     },
     "execution_count": 124,
     "metadata": {},
     "output_type": "execute_result"
    }
   ],
   "source": [
    "arr+a"
   ]
  },
  {
   "cell_type": "code",
   "execution_count": 131,
   "id": "9eda3758-aba2-4897-8d55-066783b07280",
   "metadata": {},
   "outputs": [],
   "source": [
    "a=np.array([[1,2,3]])"
   ]
  },
  {
   "cell_type": "code",
   "execution_count": 132,
   "id": "41a19188-4a6a-40b9-93ca-f551992861c8",
   "metadata": {},
   "outputs": [
    {
     "data": {
      "text/plain": [
       "array([[1, 2, 3]])"
      ]
     },
     "execution_count": 132,
     "metadata": {},
     "output_type": "execute_result"
    }
   ],
   "source": [
    "a"
   ]
  },
  {
   "cell_type": "code",
   "execution_count": 133,
   "id": "595d45ae-4283-4951-b6be-da332c6e4c59",
   "metadata": {},
   "outputs": [
    {
     "data": {
      "text/plain": [
       "array([[1],\n",
       "       [2],\n",
       "       [3]])"
      ]
     },
     "execution_count": 133,
     "metadata": {},
     "output_type": "execute_result"
    }
   ],
   "source": [
    "a.T"
   ]
  },
  {
   "cell_type": "code",
   "execution_count": 134,
   "id": "d05df2a4-a2e4-4c3a-8830-d93aa0822b7f",
   "metadata": {},
   "outputs": [
    {
     "data": {
      "text/plain": [
       "array([[1., 1., 1., 1.],\n",
       "       [2., 2., 2., 2.],\n",
       "       [3., 3., 3., 3.]])"
      ]
     },
     "execution_count": 134,
     "metadata": {},
     "output_type": "execute_result"
    }
   ],
   "source": [
    "arr+a.T"
   ]
  },
  {
   "cell_type": "code",
   "execution_count": 137,
   "id": "75a47507-90c8-4013-8978-601d0a7d64b3",
   "metadata": {},
   "outputs": [
    {
     "data": {
      "text/plain": [
       "array([[1.        , 1.41421356, 1.        ],\n",
       "       [1.        , 1.        , 1.        ],\n",
       "       [1.41421356, 1.        , 1.        ]])"
      ]
     },
     "execution_count": 137,
     "metadata": {},
     "output_type": "execute_result"
    }
   ],
   "source": [
    "np.sqrt(arr1)"
   ]
  },
  {
   "cell_type": "code",
   "execution_count": 138,
   "id": "a3f388fc-69c1-448a-a189-bf42f6894d60",
   "metadata": {},
   "outputs": [
    {
     "data": {
      "text/plain": [
       "1"
      ]
     },
     "execution_count": 138,
     "metadata": {},
     "output_type": "execute_result"
    }
   ],
   "source": [
    "np.amin(arr1)"
   ]
  },
  {
   "cell_type": "code",
   "execution_count": 139,
   "id": "c8249777-d95e-40b2-be94-810d43dfceff",
   "metadata": {},
   "outputs": [
    {
     "data": {
      "text/plain": [
       "array([[0.     , 0.30103, 0.     ],\n",
       "       [0.     , 0.     , 0.     ],\n",
       "       [0.30103, 0.     , 0.     ]])"
      ]
     },
     "execution_count": 139,
     "metadata": {},
     "output_type": "execute_result"
    }
   ],
   "source": [
    "np.log10(arr1)"
   ]
  },
  {
   "cell_type": "code",
   "execution_count": 140,
   "id": "149131c4-8ee3-4013-a87f-fbe245223de8",
   "metadata": {},
   "outputs": [
    {
     "data": {
      "text/plain": [
       "array([[2.71828183, 7.3890561 , 2.71828183],\n",
       "       [2.71828183, 2.71828183, 2.71828183],\n",
       "       [7.3890561 , 2.71828183, 2.71828183]])"
      ]
     },
     "execution_count": 140,
     "metadata": {},
     "output_type": "execute_result"
    }
   ],
   "source": [
    "np.exp(arr1)"
   ]
  },
  {
   "cell_type": "code",
   "execution_count": 141,
   "id": "e1973e3c-5d2e-416e-ab9f-b81ffc761b40",
   "metadata": {},
   "outputs": [
    {
     "data": {
      "text/plain": [
       "array([[1, 2, 1],\n",
       "       [1, 1, 1],\n",
       "       [2, 1, 1]])"
      ]
     },
     "execution_count": 141,
     "metadata": {},
     "output_type": "execute_result"
    }
   ],
   "source": [
    "arr1"
   ]
  },
  {
   "cell_type": "code",
   "execution_count": 142,
   "id": "3399aa10-a882-4513-9e0e-85e03282191c",
   "metadata": {},
   "outputs": [
    {
     "data": {
      "text/plain": [
       "1"
      ]
     },
     "execution_count": 142,
     "metadata": {},
     "output_type": "execute_result"
    }
   ],
   "source": [
    "np.min(arr1)"
   ]
  },
  {
   "cell_type": "code",
   "execution_count": 143,
   "id": "17dfc585-c72f-4cae-84d6-5d38ba79449d",
   "metadata": {},
   "outputs": [
    {
     "data": {
      "text/plain": [
       "2"
      ]
     },
     "execution_count": 143,
     "metadata": {},
     "output_type": "execute_result"
    }
   ],
   "source": [
    "np.max(arr1)"
   ]
  },
  {
   "cell_type": "code",
   "execution_count": 144,
   "id": "d06da729-988a-432a-a2c8-e1918b7a417f",
   "metadata": {},
   "outputs": [
    {
     "data": {
      "text/plain": [
       "array([[1, 2, 1],\n",
       "       [1, 1, 1],\n",
       "       [2, 1, 1]])"
      ]
     },
     "execution_count": 144,
     "metadata": {},
     "output_type": "execute_result"
    }
   ],
   "source": [
    "arr1"
   ]
  },
  {
   "cell_type": "code",
   "execution_count": 145,
   "id": "8c252132-6430-4a3c-8a26-b354cbcdc022",
   "metadata": {},
   "outputs": [
    {
     "data": {
      "text/plain": [
       "array([[1, 1, 2],\n",
       "       [2, 1, 1],\n",
       "       [1, 1, 1]])"
      ]
     },
     "execution_count": 145,
     "metadata": {},
     "output_type": "execute_result"
    }
   ],
   "source": [
    "arr1.T"
   ]
  },
  {
   "cell_type": "code",
   "execution_count": 146,
   "id": "11f16287-d957-4b2b-af11-f7638f64288c",
   "metadata": {},
   "outputs": [
    {
     "data": {
      "text/plain": [
       "array([1, 2, 1, 1, 1, 1, 2, 1, 1])"
      ]
     },
     "execution_count": 146,
     "metadata": {},
     "output_type": "execute_result"
    }
   ],
   "source": [
    "arr1.flatten() # Reduce dimension to 1d"
   ]
  },
  {
   "cell_type": "markdown",
   "id": "4a4f8f7e-8c0f-4ece-850f-776e371e6b49",
   "metadata": {
    "jp-MarkdownHeadingCollapsed": true,
    "tags": []
   },
   "source": [
    "# Expand_dims"
   ]
  },
  {
   "cell_type": "code",
   "execution_count": 147,
   "id": "6b31f307-1ea1-40b4-8ce9-189d22be689b",
   "metadata": {},
   "outputs": [],
   "source": [
    "arr = np.array([[1,2,3],[4,5,6]])"
   ]
  },
  {
   "cell_type": "code",
   "execution_count": 148,
   "id": "d124e35c-2ad8-43c9-99dc-7fe14bde31d0",
   "metadata": {},
   "outputs": [
    {
     "data": {
      "text/plain": [
       "array([[1, 2, 3],\n",
       "       [4, 5, 6]])"
      ]
     },
     "execution_count": 148,
     "metadata": {},
     "output_type": "execute_result"
    }
   ],
   "source": [
    "arr"
   ]
  },
  {
   "cell_type": "code",
   "execution_count": 150,
   "id": "5f9b2803-ee5f-46d5-8976-67815f10cb58",
   "metadata": {},
   "outputs": [
    {
     "data": {
      "text/plain": [
       "21"
      ]
     },
     "execution_count": 150,
     "metadata": {},
     "output_type": "execute_result"
    }
   ],
   "source": [
    "np.sum(arr)"
   ]
  },
  {
   "cell_type": "code",
   "execution_count": 151,
   "id": "6ad2ec43-1f4f-4656-84dd-167501dd881b",
   "metadata": {},
   "outputs": [
    {
     "data": {
      "text/plain": [
       "array([5, 7, 9])"
      ]
     },
     "execution_count": 151,
     "metadata": {},
     "output_type": "execute_result"
    }
   ],
   "source": [
    "np.sum(arr,axis=0)"
   ]
  },
  {
   "cell_type": "code",
   "execution_count": 152,
   "id": "8f7e65f5-2bbf-417b-9417-3347d8d1c68f",
   "metadata": {},
   "outputs": [
    {
     "data": {
      "text/plain": [
       "array([ 6, 15])"
      ]
     },
     "execution_count": 152,
     "metadata": {},
     "output_type": "execute_result"
    }
   ],
   "source": [
    "np.sum(arr,axis=1)"
   ]
  },
  {
   "cell_type": "code",
   "execution_count": 154,
   "id": "1d4f4e38-1e37-4314-8e06-9bb91cdd26f9",
   "metadata": {},
   "outputs": [
    {
     "data": {
      "text/plain": [
       "array([1, 2, 3, 4])"
      ]
     },
     "execution_count": 154,
     "metadata": {},
     "output_type": "execute_result"
    }
   ],
   "source": [
    "arr=np.array([1,2,3,4])\n",
    "arr"
   ]
  },
  {
   "cell_type": "code",
   "execution_count": 155,
   "id": "d6e3bd75-f450-4c5b-b6c1-0d4cf369f31c",
   "metadata": {},
   "outputs": [
    {
     "data": {
      "text/plain": [
       "1"
      ]
     },
     "execution_count": 155,
     "metadata": {},
     "output_type": "execute_result"
    }
   ],
   "source": [
    "arr.ndim"
   ]
  },
  {
   "cell_type": "code",
   "execution_count": 157,
   "id": "f499859c-62a4-444d-b4e3-2c8c40313e94",
   "metadata": {},
   "outputs": [
    {
     "data": {
      "text/plain": [
       "array([[1, 2, 3, 4]])"
      ]
     },
     "execution_count": 157,
     "metadata": {},
     "output_type": "execute_result"
    }
   ],
   "source": [
    "np.expand_dims(arr,axis=0)"
   ]
  },
  {
   "cell_type": "code",
   "execution_count": 158,
   "id": "9df1ad73-0e3e-4dab-bfda-87537ea8163b",
   "metadata": {},
   "outputs": [],
   "source": [
    "arr1=np.expand_dims(arr,axis=0)"
   ]
  },
  {
   "cell_type": "code",
   "execution_count": 160,
   "id": "2b4ff009-886e-4da4-9625-95086edfbb7f",
   "metadata": {
    "jp-MarkdownHeadingCollapsed": true,
    "tags": []
   },
   "outputs": [
    {
     "data": {
      "text/plain": [
       "2"
      ]
     },
     "execution_count": 160,
     "metadata": {},
     "output_type": "execute_result"
    }
   ],
   "source": [
    " arr1.ndim"
   ]
  },
  {
   "cell_type": "code",
   "execution_count": null,
   "id": "18448814-de46-426d-8caf-711befd489a7",
   "metadata": {},
   "outputs": [],
   "source": []
  },
  {
   "cell_type": "code",
   "execution_count": 162,
   "id": "29c71d15-9101-461c-99f6-59770532bd18",
   "metadata": {},
   "outputs": [
    {
     "data": {
      "text/plain": [
       "array([[[1, 2, 3, 4]]])"
      ]
     },
     "execution_count": 162,
     "metadata": {},
     "output_type": "execute_result"
    }
   ],
   "source": [
    "arr2=np.expand_dims(arr1,axis=0)\n",
    "arr2"
   ]
  },
  {
   "cell_type": "code",
   "execution_count": 163,
   "id": "d43fbe37-efce-4178-91ef-d14f3473153f",
   "metadata": {},
   "outputs": [
    {
     "data": {
      "text/plain": [
       "3"
      ]
     },
     "execution_count": 163,
     "metadata": {},
     "output_type": "execute_result"
    }
   ],
   "source": [
    "arr2.ndim"
   ]
  },
  {
   "cell_type": "code",
   "execution_count": 164,
   "id": "24347ff8-2c1a-4d06-b3c0-c77275f975e1",
   "metadata": {},
   "outputs": [
    {
     "data": {
      "text/plain": [
       "array([1, 2, 3, 4])"
      ]
     },
     "execution_count": 164,
     "metadata": {},
     "output_type": "execute_result"
    }
   ],
   "source": [
    "arr"
   ]
  },
  {
   "cell_type": "code",
   "execution_count": 165,
   "id": "1096ec09-98b2-4b09-908d-46f7e4806395",
   "metadata": {},
   "outputs": [],
   "source": [
    "arr1=np.expand_dims(arr,axis=1)"
   ]
  },
  {
   "cell_type": "code",
   "execution_count": 166,
   "id": "989cfd82-8b5c-4f09-a680-0424bbd3448a",
   "metadata": {},
   "outputs": [
    {
     "data": {
      "text/plain": [
       "array([[1],\n",
       "       [2],\n",
       "       [3],\n",
       "       [4]])"
      ]
     },
     "execution_count": 166,
     "metadata": {},
     "output_type": "execute_result"
    }
   ],
   "source": [
    "arr1"
   ]
  },
  {
   "cell_type": "code",
   "execution_count": 168,
   "id": "5a040f5b-0e3d-4505-8a55-9bbdd101a18d",
   "metadata": {},
   "outputs": [
    {
     "data": {
      "text/plain": [
       "array([[0., 0., 0., 0.],\n",
       "       [0., 0., 0., 0.],\n",
       "       [0., 0., 0., 0.]])"
      ]
     },
     "execution_count": 168,
     "metadata": {},
     "output_type": "execute_result"
    }
   ],
   "source": [
    "arr=np.zeros((3,4))\n",
    "arr"
   ]
  },
  {
   "cell_type": "code",
   "execution_count": 169,
   "id": "9b461489-f014-4395-85ce-546a3bdff31e",
   "metadata": {},
   "outputs": [
    {
     "data": {
      "text/plain": [
       "array([[[0., 0., 0., 0.],\n",
       "        [0., 0., 0., 0.],\n",
       "        [0., 0., 0., 0.]]])"
      ]
     },
     "execution_count": 169,
     "metadata": {},
     "output_type": "execute_result"
    }
   ],
   "source": [
    "arr1=np.expand_dims(arr,axis=0)\n",
    "arr1"
   ]
  },
  {
   "cell_type": "code",
   "execution_count": 170,
   "id": "786bd1a0-7011-4af2-ad8a-4ef117bd55c2",
   "metadata": {},
   "outputs": [
    {
     "data": {
      "text/plain": [
       "array([[[0., 0., 0., 0.]],\n",
       "\n",
       "       [[0., 0., 0., 0.]],\n",
       "\n",
       "       [[0., 0., 0., 0.]]])"
      ]
     },
     "execution_count": 170,
     "metadata": {},
     "output_type": "execute_result"
    }
   ],
   "source": [
    "arr1=np.expand_dims(arr,axis=1)\n",
    "arr1"
   ]
  },
  {
   "cell_type": "code",
   "execution_count": 13,
   "id": "d78b5429-079e-4ea5-8592-df7667951c81",
   "metadata": {},
   "outputs": [
    {
     "data": {
      "text/plain": [
       "array([[1],\n",
       "       [2],\n",
       "       [3]])"
      ]
     },
     "execution_count": 13,
     "metadata": {},
     "output_type": "execute_result"
    }
   ],
   "source": [
    "import numpy as np\n",
    "data = np.array([[1],[2],[3]])\n",
    "data"
   ]
  },
  {
   "cell_type": "code",
   "execution_count": 14,
   "id": "689e155a-e72f-4317-b013-a92dea2b8051",
   "metadata": {},
   "outputs": [
    {
     "data": {
      "text/plain": [
       "2"
      ]
     },
     "execution_count": 14,
     "metadata": {},
     "output_type": "execute_result"
    }
   ],
   "source": [
    "data.ndim"
   ]
  },
  {
   "cell_type": "code",
   "execution_count": 15,
   "id": "15c36ea1-e09c-455c-b958-bbe89e98bb40",
   "metadata": {},
   "outputs": [
    {
     "data": {
      "text/plain": [
       "array([1, 2, 3])"
      ]
     },
     "execution_count": 15,
     "metadata": {},
     "output_type": "execute_result"
    }
   ],
   "source": [
    "np.squeeze(data)"
   ]
  },
  {
   "cell_type": "code",
   "execution_count": 16,
   "id": "da7810f9-8ffe-44c4-a841-565cddf236ee",
   "metadata": {},
   "outputs": [
    {
     "data": {
      "text/plain": [
       "array([[1],\n",
       "       [2],\n",
       "       [3]])"
      ]
     },
     "execution_count": 16,
     "metadata": {},
     "output_type": "execute_result"
    }
   ],
   "source": [
    "# repeat\n",
    "data"
   ]
  },
  {
   "cell_type": "code",
   "execution_count": 17,
   "id": "0959860f-820a-41e7-b1bd-58dd25c349f7",
   "metadata": {},
   "outputs": [
    {
     "data": {
      "text/plain": [
       "array([1, 1, 1, 1, 2, 2, 2, 2, 3, 3, 3, 3])"
      ]
     },
     "execution_count": 17,
     "metadata": {},
     "output_type": "execute_result"
    }
   ],
   "source": [
    "np.repeat(data,4)"
   ]
  },
  {
   "cell_type": "code",
   "execution_count": 18,
   "id": "66178973-680f-426f-97f2-d30c7074caa2",
   "metadata": {},
   "outputs": [
    {
     "data": {
      "text/plain": [
       "array([[1, 2],\n",
       "       [3, 4]])"
      ]
     },
     "execution_count": 18,
     "metadata": {},
     "output_type": "execute_result"
    }
   ],
   "source": [
    "a=np.array([[1,2],[3,4]])\n",
    "a"
   ]
  },
  {
   "cell_type": "code",
   "execution_count": 19,
   "id": "f75535cd-d878-4a5e-ba78-48c44fc89611",
   "metadata": {},
   "outputs": [
    {
     "data": {
      "text/plain": [
       "array([1, 1, 1, 2, 2, 2, 3, 3, 3, 4, 4, 4])"
      ]
     },
     "execution_count": 19,
     "metadata": {},
     "output_type": "execute_result"
    }
   ],
   "source": [
    "np.repeat(a,3)"
   ]
  },
  {
   "cell_type": "code",
   "execution_count": 29,
   "id": "90f98881-e6b1-4e9a-b2af-4242b815ea37",
   "metadata": {},
   "outputs": [
    {
     "data": {
      "text/plain": [
       "array([[1, 2],\n",
       "       [3, 4]])"
      ]
     },
     "execution_count": 29,
     "metadata": {},
     "output_type": "execute_result"
    }
   ],
   "source": [
    "a.reshape(4).base"
   ]
  },
  {
   "cell_type": "code",
   "execution_count": 32,
   "id": "cc5ba896-7e89-45d5-9963-2a79f7803963",
   "metadata": {},
   "outputs": [
    {
     "data": {
      "text/plain": [
       "array([[1, 1, 2, 2],\n",
       "       [3, 3, 4, 4]])"
      ]
     },
     "execution_count": 32,
     "metadata": {},
     "output_type": "execute_result"
    }
   ],
   "source": [
    "np.repeat(a,2,axis=1)"
   ]
  },
  {
   "cell_type": "code",
   "execution_count": 33,
   "id": "91eced67-b3d7-41ee-9fb7-4ff1342a3794",
   "metadata": {},
   "outputs": [
    {
     "data": {
      "text/plain": [
       "array([[1, 2],\n",
       "       [1, 2],\n",
       "       [3, 4],\n",
       "       [3, 4]])"
      ]
     },
     "execution_count": 33,
     "metadata": {},
     "output_type": "execute_result"
    }
   ],
   "source": [
    "np.repeat(a,2,axis=0)"
   ]
  },
  {
   "cell_type": "code",
   "execution_count": 34,
   "id": "e92b3a9a-24f8-40b3-8f86-e3088c9467b7",
   "metadata": {},
   "outputs": [
    {
     "data": {
      "text/plain": [
       "array([[1],\n",
       "       [2],\n",
       "       [3]])"
      ]
     },
     "execution_count": 34,
     "metadata": {},
     "output_type": "execute_result"
    }
   ],
   "source": [
    "data"
   ]
  },
  {
   "cell_type": "code",
   "execution_count": 35,
   "id": "9b266749-c132-4835-add5-e54cdaad1968",
   "metadata": {},
   "outputs": [
    {
     "data": {
      "text/plain": [
       "array([[1],\n",
       "       [2],\n",
       "       [3]])"
      ]
     },
     "execution_count": 35,
     "metadata": {},
     "output_type": "execute_result"
    }
   ],
   "source": [
    "data"
   ]
  },
  {
   "cell_type": "code",
   "execution_count": 41,
   "id": "ff7fa7a8-5a1f-4669-ba94-d7bce67ed8bc",
   "metadata": {},
   "outputs": [
    {
     "data": {
      "text/plain": [
       "array([[1],\n",
       "       [2],\n",
       "       [3]])"
      ]
     },
     "execution_count": 41,
     "metadata": {},
     "output_type": "execute_result"
    }
   ],
   "source": [
    "np.roll(data,210)"
   ]
  },
  {
   "cell_type": "code",
   "execution_count": 43,
   "id": "54319ab1-eb63-4bfc-91db-d1312ecce7c8",
   "metadata": {},
   "outputs": [
    {
     "data": {
      "text/plain": [
       "array([[1, 0, 0, 0, 0, 0],\n",
       "       [0, 2, 0, 0, 0, 0],\n",
       "       [0, 0, 3, 0, 0, 0],\n",
       "       [0, 0, 0, 4, 0, 0],\n",
       "       [0, 0, 0, 0, 5, 0],\n",
       "       [0, 0, 0, 0, 0, 6]])"
      ]
     },
     "execution_count": 43,
     "metadata": {},
     "output_type": "execute_result"
    }
   ],
   "source": [
    "np.diag(np.array([1,2,3,4,5,6]))"
   ]
  },
  {
   "cell_type": "code",
   "execution_count": 45,
   "id": "b9755493-6fad-44aa-a084-76ef413997e2",
   "metadata": {},
   "outputs": [
    {
     "data": {
      "text/plain": [
       "array([[1],\n",
       "       [2],\n",
       "       [3]])"
      ]
     },
     "execution_count": 45,
     "metadata": {},
     "output_type": "execute_result"
    }
   ],
   "source": [
    "np.roll(data,-3)"
   ]
  },
  {
   "cell_type": "code",
   "execution_count": 53,
   "id": "2161b4a4-0023-40a9-9449-07146fd3bae6",
   "metadata": {},
   "outputs": [],
   "source": [
    "a=np.array([[[1,2],[3,4]]])"
   ]
  },
  {
   "cell_type": "code",
   "execution_count": 54,
   "id": "e368ebc5-85aa-4b10-8654-4acbffc6e010",
   "metadata": {},
   "outputs": [
    {
     "data": {
      "text/plain": [
       "3"
      ]
     },
     "execution_count": 54,
     "metadata": {},
     "output_type": "execute_result"
    }
   ],
   "source": [
    "a.ndim"
   ]
  },
  {
   "cell_type": "code",
   "execution_count": 56,
   "id": "66c554ef-a4f1-4605-a9d9-663433cd67fa",
   "metadata": {},
   "outputs": [
    {
     "data": {
      "text/plain": [
       "array([[[3, 4],\n",
       "        [1, 2]]])"
      ]
     },
     "execution_count": 56,
     "metadata": {},
     "output_type": "execute_result"
    }
   ],
   "source": [
    "np.roll(a,2)"
   ]
  },
  {
   "cell_type": "code",
   "execution_count": 58,
   "id": "62727583-8304-4c35-a55d-982ff7a96458",
   "metadata": {},
   "outputs": [
    {
     "data": {
      "text/plain": [
       "array([[[1, 2],\n",
       "        [3, 4]]])"
      ]
     },
     "execution_count": 58,
     "metadata": {},
     "output_type": "execute_result"
    }
   ],
   "source": [
    "np.roll(a,2,axis=0)"
   ]
  },
  {
   "cell_type": "markdown",
   "id": "24240b9b-a9c5-4724-a4ab-a0e69443822a",
   "metadata": {
    "jp-MarkdownHeadingCollapsed": true,
    "tags": []
   },
   "source": [
    "# Binary operation on array "
   ]
  },
  {
   "cell_type": "code",
   "execution_count": 59,
   "id": "5045639b-e830-46f3-8eff-b09ade05a776",
   "metadata": {},
   "outputs": [],
   "source": [
    "arr1=np.random.randint(1,10,(3,4))"
   ]
  },
  {
   "cell_type": "code",
   "execution_count": 76,
   "id": "255f1316-cac2-4f08-ac0e-2d651d572cb7",
   "metadata": {},
   "outputs": [],
   "source": [
    "arr2=np.random.randint(1,10,(3,4))"
   ]
  },
  {
   "cell_type": "code",
   "execution_count": 77,
   "id": "94d99d7c-c8cf-4252-9b4c-d1f492508613",
   "metadata": {},
   "outputs": [
    {
     "data": {
      "text/plain": [
       "array([[7, 3, 6, 6],\n",
       "       [5, 6, 7, 9],\n",
       "       [5, 7, 1, 9]])"
      ]
     },
     "execution_count": 77,
     "metadata": {},
     "output_type": "execute_result"
    }
   ],
   "source": [
    "arr1\n"
   ]
  },
  {
   "cell_type": "code",
   "execution_count": 78,
   "id": "31446e7d-85da-4bb8-ba24-ef1a4cbb57f2",
   "metadata": {},
   "outputs": [
    {
     "data": {
      "text/plain": [
       "array([[6, 8, 8, 4],\n",
       "       [1, 3, 8, 2],\n",
       "       [3, 3, 4, 6]])"
      ]
     },
     "execution_count": 78,
     "metadata": {},
     "output_type": "execute_result"
    }
   ],
   "source": [
    "arr2"
   ]
  },
  {
   "cell_type": "code",
   "execution_count": 79,
   "id": "52529f9b-26d8-476c-94cb-ebe8ec7f27fc",
   "metadata": {},
   "outputs": [
    {
     "data": {
      "text/plain": [
       "array([[13, 11, 14, 10],\n",
       "       [ 6,  9, 15, 11],\n",
       "       [ 8, 10,  5, 15]])"
      ]
     },
     "execution_count": 79,
     "metadata": {},
     "output_type": "execute_result"
    }
   ],
   "source": [
    "arr1+arr2"
   ]
  },
  {
   "cell_type": "code",
   "execution_count": 80,
   "id": "ddf5a807-fa6d-4dde-ac6e-28e70aae4fcd",
   "metadata": {},
   "outputs": [
    {
     "data": {
      "text/plain": [
       "array([[42, 24, 48, 24],\n",
       "       [ 5, 18, 56, 18],\n",
       "       [15, 21,  4, 54]])"
      ]
     },
     "execution_count": 80,
     "metadata": {},
     "output_type": "execute_result"
    }
   ],
   "source": [
    "arr1*arr2"
   ]
  },
  {
   "cell_type": "code",
   "execution_count": 81,
   "id": "c33dbbeb-26f6-4a82-b6cf-d696539e403d",
   "metadata": {},
   "outputs": [
    {
     "data": {
      "text/plain": [
       "array([[ 117649,    6561, 1679616,    1296],\n",
       "       [      5,     216, 5764801,      81],\n",
       "       [    125,     343,       1,  531441]])"
      ]
     },
     "execution_count": 81,
     "metadata": {},
     "output_type": "execute_result"
    }
   ],
   "source": [
    "arr1**arr2"
   ]
  },
  {
   "cell_type": "code",
   "execution_count": 75,
   "id": "c11f4bd9-03fd-4447-b845-7a18103cd783",
   "metadata": {},
   "outputs": [
    {
     "data": {
      "text/plain": [
       "array([[133, 117, 116, 180],\n",
       "       [ 79,  60,  66,  96],\n",
       "       [108, 117,  82, 168],\n",
       "       [ 65,  55,  48,  84]])"
      ]
     },
     "execution_count": 75,
     "metadata": {},
     "output_type": "execute_result"
    }
   ],
   "source": [
    "arr2 @ arr1"
   ]
  },
  {
   "cell_type": "code",
   "execution_count": 82,
   "id": "cce41c3a-87f1-4d28-b9d0-7b76c36db540",
   "metadata": {},
   "outputs": [
    {
     "data": {
      "text/plain": [
       "array([[ -8,  -4,  -7,  -7],\n",
       "       [ -6,  -7,  -8, -10],\n",
       "       [ -6,  -8,  -2, -10]])"
      ]
     },
     "execution_count": 82,
     "metadata": {},
     "output_type": "execute_result"
    }
   ],
   "source": [
    "~arr1"
   ]
  },
  {
   "cell_type": "code",
   "execution_count": 83,
   "id": "5ba8176b-5b2c-4cee-afd8-e3855221f6ee",
   "metadata": {},
   "outputs": [
    {
     "data": {
      "text/plain": [
       "array([[7, 3, 6, 6],\n",
       "       [5, 6, 7, 9],\n",
       "       [5, 7, 1, 9]])"
      ]
     },
     "execution_count": 83,
     "metadata": {},
     "output_type": "execute_result"
    }
   ],
   "source": [
    "arr1"
   ]
  },
  {
   "cell_type": "markdown",
   "id": "aef8d151-c8b2-4119-97f9-9aab59ab6686",
   "metadata": {
    "jp-MarkdownHeadingCollapsed": true,
    "tags": []
   },
   "source": [
    "# Numpy string function"
   ]
  },
  {
   "cell_type": "code",
   "execution_count": 84,
   "id": "94bd3686-4213-475d-95e7-970881f4e7a1",
   "metadata": {},
   "outputs": [],
   "source": [
    "arr = np.array(['pw','skills'])"
   ]
  },
  {
   "cell_type": "code",
   "execution_count": 85,
   "id": "0fc33dad-3e91-4a39-8bab-da366e77df5f",
   "metadata": {},
   "outputs": [
    {
     "data": {
      "text/plain": [
       "array(['pw', 'skills'], dtype='<U6')"
      ]
     },
     "execution_count": 85,
     "metadata": {},
     "output_type": "execute_result"
    }
   ],
   "source": [
    "arr"
   ]
  },
  {
   "cell_type": "code",
   "execution_count": 86,
   "id": "1c461781-fc83-48f1-b94e-18222d2c8bd2",
   "metadata": {},
   "outputs": [
    {
     "data": {
      "text/plain": [
       "array(['PW', 'SKILLS'], dtype='<U6')"
      ]
     },
     "execution_count": 86,
     "metadata": {},
     "output_type": "execute_result"
    }
   ],
   "source": [
    "np.char.upper(arr)"
   ]
  },
  {
   "cell_type": "code",
   "execution_count": 88,
   "id": "1a342c17-b995-4731-91eb-22eb9cbae320",
   "metadata": {},
   "outputs": [
    {
     "data": {
      "text/plain": [
       "array(['Pw', 'Skills'], dtype='<U6')"
      ]
     },
     "execution_count": 88,
     "metadata": {},
     "output_type": "execute_result"
    }
   ],
   "source": [
    "np.char.capitalize(arr)"
   ]
  },
  {
   "cell_type": "code",
   "execution_count": 89,
   "id": "822902b6-d943-409b-86f8-95490843aa0e",
   "metadata": {},
   "outputs": [
    {
     "data": {
      "text/plain": [
       "array(['Pw', 'Skills'], dtype='<U6')"
      ]
     },
     "execution_count": 89,
     "metadata": {},
     "output_type": "execute_result"
    }
   ],
   "source": [
    "np.char.title(arr)"
   ]
  },
  {
   "cell_type": "markdown",
   "id": "b5d3b059-215f-4fc9-96e2-427807092014",
   "metadata": {
    "jp-MarkdownHeadingCollapsed": true,
    "tags": []
   },
   "source": [
    "# Mathmatical operation"
   ]
  },
  {
   "cell_type": "code",
   "execution_count": 90,
   "id": "f1f4d437-72fe-4309-a8b5-30730247436b",
   "metadata": {},
   "outputs": [
    {
     "data": {
      "text/plain": [
       "array([[7, 3, 6, 6],\n",
       "       [5, 6, 7, 9],\n",
       "       [5, 7, 1, 9]])"
      ]
     },
     "execution_count": 90,
     "metadata": {},
     "output_type": "execute_result"
    }
   ],
   "source": [
    "arr1"
   ]
  },
  {
   "cell_type": "code",
   "execution_count": 91,
   "id": "fd984945-31b4-4fb7-b383-65e9f8fbab20",
   "metadata": {},
   "outputs": [
    {
     "data": {
      "text/plain": [
       "array([[ 0.6569866 ,  0.14112001, -0.2794155 , -0.2794155 ],\n",
       "       [-0.95892427, -0.2794155 ,  0.6569866 ,  0.41211849],\n",
       "       [-0.95892427,  0.6569866 ,  0.84147098,  0.41211849]])"
      ]
     },
     "execution_count": 91,
     "metadata": {},
     "output_type": "execute_result"
    }
   ],
   "source": [
    "np.sin(arr1)"
   ]
  },
  {
   "cell_type": "code",
   "execution_count": 92,
   "id": "9d4d952a-b868-4271-b452-a58593c55749",
   "metadata": {},
   "outputs": [
    {
     "data": {
      "text/plain": [
       "array([[ 0.75390225, -0.9899925 ,  0.96017029,  0.96017029],\n",
       "       [ 0.28366219,  0.96017029,  0.75390225, -0.91113026],\n",
       "       [ 0.28366219,  0.75390225,  0.54030231, -0.91113026]])"
      ]
     },
     "execution_count": 92,
     "metadata": {},
     "output_type": "execute_result"
    }
   ],
   "source": [
    "np.cos(arr1)"
   ]
  },
  {
   "cell_type": "code",
   "execution_count": 93,
   "id": "954ae522-2b43-4f8d-8dc1-0bf4c25cf0d5",
   "metadata": {},
   "outputs": [
    {
     "data": {
      "text/plain": [
       "array([[0.84509804, 0.47712125, 0.77815125, 0.77815125],\n",
       "       [0.69897   , 0.77815125, 0.84509804, 0.95424251],\n",
       "       [0.69897   , 0.84509804, 0.        , 0.95424251]])"
      ]
     },
     "execution_count": 93,
     "metadata": {},
     "output_type": "execute_result"
    }
   ],
   "source": [
    "np.log10(arr1)"
   ]
  },
  {
   "cell_type": "code",
   "execution_count": 94,
   "id": "d0323971-c5fb-4b21-9b7a-7c4c93a9a4c8",
   "metadata": {},
   "outputs": [
    {
     "data": {
      "text/plain": [
       "array([[1.09663316e+03, 2.00855369e+01, 4.03428793e+02, 4.03428793e+02],\n",
       "       [1.48413159e+02, 4.03428793e+02, 1.09663316e+03, 8.10308393e+03],\n",
       "       [1.48413159e+02, 1.09663316e+03, 2.71828183e+00, 8.10308393e+03]])"
      ]
     },
     "execution_count": 94,
     "metadata": {},
     "output_type": "execute_result"
    }
   ],
   "source": [
    "np.exp(arr1)"
   ]
  },
  {
   "cell_type": "code",
   "execution_count": 96,
   "id": "27208bd6-d5cb-4443-af0b-3df28bcf4a31",
   "metadata": {},
   "outputs": [
    {
     "data": {
      "text/plain": [
       "array([[343,  27, 216, 216],\n",
       "       [125, 216, 343, 729],\n",
       "       [125, 343,   1, 729]])"
      ]
     },
     "execution_count": 96,
     "metadata": {},
     "output_type": "execute_result"
    }
   ],
   "source": [
    "np.power(arr1,3)"
   ]
  },
  {
   "cell_type": "code",
   "execution_count": 97,
   "id": "0b514bd1-3f22-4513-833d-736eac1b5c46",
   "metadata": {},
   "outputs": [
    {
     "data": {
      "text/plain": [
       "9"
      ]
     },
     "execution_count": 97,
     "metadata": {},
     "output_type": "execute_result"
    }
   ],
   "source": [
    "np.max(arr1)"
   ]
  },
  {
   "cell_type": "code",
   "execution_count": 98,
   "id": "6d78cf22-42c5-4908-94fe-15f7b87f4d85",
   "metadata": {},
   "outputs": [
    {
     "data": {
      "text/plain": [
       "1"
      ]
     },
     "execution_count": 98,
     "metadata": {},
     "output_type": "execute_result"
    }
   ],
   "source": [
    "np.min(arr1)"
   ]
  },
  {
   "cell_type": "code",
   "execution_count": 99,
   "id": "94bbdf7f-5df8-45ab-9358-a73509365d08",
   "metadata": {},
   "outputs": [
    {
     "data": {
      "text/plain": [
       "2.1778557242286634"
      ]
     },
     "execution_count": 99,
     "metadata": {},
     "output_type": "execute_result"
    }
   ],
   "source": [
    "np.std(arr1)"
   ]
  },
  {
   "cell_type": "code",
   "execution_count": 100,
   "id": "512ca895-f6f1-4278-b592-1f71982e2e9f",
   "metadata": {},
   "outputs": [
    {
     "data": {
      "text/plain": [
       "4.743055555555556"
      ]
     },
     "execution_count": 100,
     "metadata": {},
     "output_type": "execute_result"
    }
   ],
   "source": [
    "np.var(arr1)"
   ]
  },
  {
   "cell_type": "code",
   "execution_count": 101,
   "id": "d4631e36-92d8-447f-bfe5-5b27a350e2ce",
   "metadata": {},
   "outputs": [
    {
     "data": {
      "text/plain": [
       "array([[ 1, -5, -2,  2],\n",
       "       [ 4,  3, -1,  7],\n",
       "       [ 2,  4, -3,  3]])"
      ]
     },
     "execution_count": 101,
     "metadata": {},
     "output_type": "execute_result"
    }
   ],
   "source": [
    "np.subtract(arr1,arr2)"
   ]
  },
  {
   "cell_type": "code",
   "execution_count": 102,
   "id": "6aee419a-c596-45eb-966d-a5bed1e59f1c",
   "metadata": {},
   "outputs": [
    {
     "data": {
      "text/plain": [
       "array([[42, 24, 48, 24],\n",
       "       [ 5, 18, 56, 18],\n",
       "       [15, 21,  4, 54]])"
      ]
     },
     "execution_count": 102,
     "metadata": {},
     "output_type": "execute_result"
    }
   ],
   "source": [
    "np.multiply(arr1,arr2)"
   ]
  },
  {
   "cell_type": "code",
   "execution_count": 103,
   "id": "6957674a-d830-423f-bef3-cb8fdf910e25",
   "metadata": {},
   "outputs": [
    {
     "data": {
      "text/plain": [
       "array([[ 117649,    6561, 1679616,    1296],\n",
       "       [      5,     216, 5764801,      81],\n",
       "       [    125,     343,       1,  531441]])"
      ]
     },
     "execution_count": 103,
     "metadata": {},
     "output_type": "execute_result"
    }
   ],
   "source": [
    "np.power(arr1,arr2)"
   ]
  },
  {
   "cell_type": "code",
   "execution_count": 104,
   "id": "214a7ca4-74bb-49bc-95a0-60a5901637e2",
   "metadata": {},
   "outputs": [
    {
     "data": {
      "text/plain": [
       "array([[1, 3, 6, 2],\n",
       "       [0, 0, 7, 1],\n",
       "       [2, 1, 1, 3]])"
      ]
     },
     "execution_count": 104,
     "metadata": {},
     "output_type": "execute_result"
    }
   ],
   "source": [
    "np.mod(arr1,arr2) # return element wise remainder"
   ]
  },
  {
   "cell_type": "code",
   "execution_count": 105,
   "id": "c27e2b88-ea7a-401b-b493-435a3b23389b",
   "metadata": {},
   "outputs": [
    {
     "data": {
      "text/plain": [
       "array([[2.64575131, 1.73205081, 2.44948974, 2.44948974],\n",
       "       [2.23606798, 2.44948974, 2.64575131, 3.        ],\n",
       "       [2.23606798, 2.64575131, 1.        , 3.        ]])"
      ]
     },
     "execution_count": 105,
     "metadata": {},
     "output_type": "execute_result"
    }
   ],
   "source": [
    "np.sqrt(arr1)"
   ]
  },
  {
   "cell_type": "markdown",
   "id": "596ae815-d90d-4ae7-8391-6a3e7e99f6f2",
   "metadata": {},
   "source": [
    "# Sort & Search in array"
   ]
  },
  {
   "cell_type": "code",
   "execution_count": 106,
   "id": "34fc94a5-8fac-478f-a48e-e92dfb2cbfd8",
   "metadata": {},
   "outputs": [],
   "source": [
    "arr = np.array([5,6,7,3])"
   ]
  },
  {
   "cell_type": "code",
   "execution_count": 107,
   "id": "70192650-d267-45df-ac9d-d2907498e68a",
   "metadata": {},
   "outputs": [
    {
     "data": {
      "text/plain": [
       "array([5, 6, 7, 3])"
      ]
     },
     "execution_count": 107,
     "metadata": {},
     "output_type": "execute_result"
    }
   ],
   "source": [
    "arr"
   ]
  },
  {
   "cell_type": "code",
   "execution_count": 113,
   "id": "8218be32-9070-4ac9-b121-9bde44158206",
   "metadata": {},
   "outputs": [
    {
     "data": {
      "text/plain": [
       "array([3, 5, 6, 7])"
      ]
     },
     "execution_count": 113,
     "metadata": {},
     "output_type": "execute_result"
    }
   ],
   "source": [
    "np.sort(arr)"
   ]
  },
  {
   "cell_type": "code",
   "execution_count": 121,
   "id": "83a5b07b-d46b-4978-ac15-afec0174b51c",
   "metadata": {},
   "outputs": [
    {
     "data": {
      "text/plain": [
       "4"
      ]
     },
     "execution_count": 121,
     "metadata": {},
     "output_type": "execute_result"
    }
   ],
   "source": [
    "np.searchsorted(arr,100)"
   ]
  },
  {
   "cell_type": "code",
   "execution_count": 122,
   "id": "36c29745-a4b4-4edd-b877-54d40c8e68b2",
   "metadata": {},
   "outputs": [
    {
     "data": {
      "text/plain": [
       "4"
      ]
     },
     "execution_count": 122,
     "metadata": {},
     "output_type": "execute_result"
    }
   ],
   "source": [
    "arr1 = np.array([0,1,2,3,4,0])\n",
    "np.count_nonzero(arr1)"
   ]
  },
  {
   "cell_type": "code",
   "execution_count": 126,
   "id": "1194ad7d-0333-44da-8503-5f4a90345dd4",
   "metadata": {},
   "outputs": [
    {
     "data": {
      "text/plain": [
       "(array([4]),)"
      ]
     },
     "execution_count": 126,
     "metadata": {},
     "output_type": "execute_result"
    }
   ],
   "source": [
    "np.where(arr1>3)"
   ]
  },
  {
   "cell_type": "code",
   "execution_count": 125,
   "id": "ff2179b0-ee67-45ec-8355-18f9e81e2e9a",
   "metadata": {},
   "outputs": [
    {
     "data": {
      "text/plain": [
       "array([4])"
      ]
     },
     "execution_count": 125,
     "metadata": {},
     "output_type": "execute_result"
    }
   ],
   "source": [
    "np.extract(arr1 > 3,arr1)"
   ]
  },
  {
   "cell_type": "code",
   "execution_count": 127,
   "id": "4f2af46e-84d2-4612-98ad-33553aa02450",
   "metadata": {},
   "outputs": [
    {
     "data": {
      "text/plain": [
       "array([0, 1, 2, 3, 4, 0])"
      ]
     },
     "execution_count": 127,
     "metadata": {},
     "output_type": "execute_result"
    }
   ],
   "source": [
    "arr1"
   ]
  },
  {
   "cell_type": "code",
   "execution_count": 128,
   "id": "44ade67c-3e2d-4200-9cd6-2ef01bfd5862",
   "metadata": {},
   "outputs": [
    {
     "data": {
      "text/plain": [
       "array([                 0,  72057594037927936, 144115188075855872,\n",
       "       216172782113783808, 288230376151711744,                  0])"
      ]
     },
     "execution_count": 128,
     "metadata": {},
     "output_type": "execute_result"
    }
   ],
   "source": [
    "arr1.byteswap()"
   ]
  },
  {
   "cell_type": "markdown",
   "id": "bace053f-2a8d-4126-a999-5f5a3e0a0ec7",
   "metadata": {},
   "source": [
    "# Matrix == 2d array"
   ]
  },
  {
   "cell_type": "code",
   "execution_count": 1,
   "id": "be66dbed-fa62-4db0-902e-58a4a6752207",
   "metadata": {},
   "outputs": [],
   "source": [
    "import numpy.matlib as nm"
   ]
  },
  {
   "cell_type": "code",
   "execution_count": 5,
   "id": "aa236214-f152-4e26-855d-4c0387ed7bb2",
   "metadata": {},
   "outputs": [],
   "source": [
    "import numpy as np"
   ]
  },
  {
   "cell_type": "code",
   "execution_count": 6,
   "id": "a6e0d899-b4a6-478e-9327-cd8391dbab40",
   "metadata": {},
   "outputs": [
    {
     "data": {
      "text/plain": [
       "matrix([[0., 0., 0., 0., 0.]])"
      ]
     },
     "execution_count": 6,
     "metadata": {},
     "output_type": "execute_result"
    }
   ],
   "source": [
    "nm.zeros(5)"
   ]
  },
  {
   "cell_type": "code",
   "execution_count": 7,
   "id": "fc5f57b6-18d0-44d4-b25a-19483a51b2a6",
   "metadata": {},
   "outputs": [
    {
     "data": {
      "text/plain": [
       "matrix([[1., 1., 1., 1.],\n",
       "        [1., 1., 1., 1.],\n",
       "        [1., 1., 1., 1.]])"
      ]
     },
     "execution_count": 7,
     "metadata": {},
     "output_type": "execute_result"
    }
   ],
   "source": [
    "nm.ones((3,4))"
   ]
  },
  {
   "cell_type": "code",
   "execution_count": 8,
   "id": "752f8cd4-0684-42cc-b573-bdd910ab9961",
   "metadata": {},
   "outputs": [],
   "source": [
    "arr1 = np.random.randint(1,10,(3,4))\n",
    "arr2 = np.random.randint(1,10,(3,4))"
   ]
  },
  {
   "cell_type": "code",
   "execution_count": 9,
   "id": "891dee6b-caa3-47ef-b2e9-fb93c45de288",
   "metadata": {},
   "outputs": [],
   "source": [
    "arr1 = np.array([[2,3],[4,5]])\n",
    "arr2= np.array([[1,3],[4,5]])"
   ]
  },
  {
   "cell_type": "code",
   "execution_count": 10,
   "id": "70b902d9-877b-40da-b02b-5006b91249a3",
   "metadata": {},
   "outputs": [
    {
     "data": {
      "text/plain": [
       "array([[2, 3],\n",
       "       [4, 5]])"
      ]
     },
     "execution_count": 10,
     "metadata": {},
     "output_type": "execute_result"
    }
   ],
   "source": [
    "arr1"
   ]
  },
  {
   "cell_type": "code",
   "execution_count": 11,
   "id": "cbd5d1bd-7426-4fa6-b0ff-303444704521",
   "metadata": {},
   "outputs": [
    {
     "data": {
      "text/plain": [
       "array([[1, 3],\n",
       "       [4, 5]])"
      ]
     },
     "execution_count": 11,
     "metadata": {},
     "output_type": "execute_result"
    }
   ],
   "source": [
    "arr2"
   ]
  },
  {
   "cell_type": "code",
   "execution_count": 152,
   "id": "4fc2920a-cb2e-4039-896d-3281d0b59697",
   "metadata": {},
   "outputs": [
    {
     "data": {
      "text/plain": [
       "array([[14, 21],\n",
       "       [24, 37]])"
      ]
     },
     "execution_count": 152,
     "metadata": {},
     "output_type": "execute_result"
    }
   ],
   "source": [
    "arr1 @ arr2"
   ]
  },
  {
   "cell_type": "code",
   "execution_count": 12,
   "id": "536e2cd9-9d63-4fc4-9606-80067ad7c02c",
   "metadata": {},
   "outputs": [],
   "source": [
    "a= np.array([[7,5,-3],[3,-5,2],[5,3,-7]])"
   ]
  },
  {
   "cell_type": "code",
   "execution_count": 13,
   "id": "e6e67c22-68be-4d41-9154-3e71f8f300e3",
   "metadata": {},
   "outputs": [
    {
     "data": {
      "text/plain": [
       "array([[ 7,  5, -3],\n",
       "       [ 3, -5,  2],\n",
       "       [ 5,  3, -7]])"
      ]
     },
     "execution_count": 13,
     "metadata": {},
     "output_type": "execute_result"
    }
   ],
   "source": [
    "a"
   ]
  },
  {
   "cell_type": "code",
   "execution_count": 14,
   "id": "4eb59da9-00d3-47ea-a43d-c0b67db17424",
   "metadata": {},
   "outputs": [],
   "source": [
    "b=np.array([16,-8,0])"
   ]
  },
  {
   "cell_type": "code",
   "execution_count": 15,
   "id": "c7fd95cc-41b1-40f9-868d-3cce2a3ae5f1",
   "metadata": {},
   "outputs": [
    {
     "data": {
      "text/plain": [
       "array([16, -8,  0])"
      ]
     },
     "execution_count": 15,
     "metadata": {},
     "output_type": "execute_result"
    }
   ],
   "source": [
    "b"
   ]
  },
  {
   "cell_type": "code",
   "execution_count": 16,
   "id": "5f7b4a5a-e489-422c-b264-4ae7b55c78a4",
   "metadata": {},
   "outputs": [
    {
     "data": {
      "text/plain": [
       "array([1., 3., 2.])"
      ]
     },
     "execution_count": 16,
     "metadata": {},
     "output_type": "execute_result"
    }
   ],
   "source": [
    "np.linalg.solve(a,b)"
   ]
  },
  {
   "cell_type": "code",
   "execution_count": 17,
   "id": "4a281974-5bf3-4b16-90ea-dfd869490c0b",
   "metadata": {},
   "outputs": [
    {
     "data": {
      "text/plain": [
       "array([[2, 3],\n",
       "       [4, 5]])"
      ]
     },
     "execution_count": 17,
     "metadata": {},
     "output_type": "execute_result"
    }
   ],
   "source": [
    "arr1"
   ]
  },
  {
   "cell_type": "code",
   "execution_count": 19,
   "id": "3fe8d975-d8df-4ba0-99cd-33e17ecfb258",
   "metadata": {},
   "outputs": [
    {
     "data": {
      "text/plain": [
       "-2.0"
      ]
     },
     "execution_count": 19,
     "metadata": {},
     "output_type": "execute_result"
    }
   ],
   "source": [
    "np.linalg.det(arr1)"
   ]
  },
  {
   "cell_type": "code",
   "execution_count": 20,
   "id": "0860e251-8d58-4771-b0f1-0ff80466ebe8",
   "metadata": {},
   "outputs": [],
   "source": [
    "arr1 = np.random.randint(1,3,(3,3))"
   ]
  },
  {
   "cell_type": "code",
   "execution_count": 21,
   "id": "ec406b2b-68fe-48e5-976d-c1af57e85f1a",
   "metadata": {},
   "outputs": [
    {
     "data": {
      "text/plain": [
       "array([[2, 1, 1],\n",
       "       [1, 2, 2],\n",
       "       [2, 1, 2]])"
      ]
     },
     "execution_count": 21,
     "metadata": {},
     "output_type": "execute_result"
    }
   ],
   "source": [
    "arr1"
   ]
  },
  {
   "cell_type": "code",
   "execution_count": 22,
   "id": "efdd9605-3496-4510-9e80-69c4b19f9a5e",
   "metadata": {},
   "outputs": [
    {
     "data": {
      "text/plain": [
       "2.9999999999999996"
      ]
     },
     "execution_count": 22,
     "metadata": {},
     "output_type": "execute_result"
    }
   ],
   "source": [
    "np.linalg.det(arr1)"
   ]
  },
  {
   "cell_type": "code",
   "execution_count": null,
   "id": "404f1459-cf20-441f-a609-6b9e10710422",
   "metadata": {},
   "outputs": [],
   "source": []
  }
 ],
 "metadata": {
  "kernelspec": {
   "display_name": "Python 3 (ipykernel)",
   "language": "python",
   "name": "python3"
  },
  "language_info": {
   "codemirror_mode": {
    "name": "ipython",
    "version": 3
   },
   "file_extension": ".py",
   "mimetype": "text/x-python",
   "name": "python",
   "nbconvert_exporter": "python",
   "pygments_lexer": "ipython3",
   "version": "3.10.8"
  }
 },
 "nbformat": 4,
 "nbformat_minor": 5
}
